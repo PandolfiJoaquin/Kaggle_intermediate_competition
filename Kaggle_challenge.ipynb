{
  "cells": [
    {
      "cell_type": "markdown",
      "metadata": {
        "id": "view-in-github",
        "colab_type": "text"
      },
      "source": [
        "<a href=\"https://colab.research.google.com/github/PandolfiJoaquin/Kaggle_intermediate_competition/blob/main/Kaggle_challenge.ipynb\" target=\"_parent\"><img src=\"https://colab.research.google.com/assets/colab-badge.svg\" alt=\"Open In Colab\"/></a>"
      ]
    },
    {
      "cell_type": "code",
      "execution_count": 394,
      "id": "1f91669a",
      "metadata": {
        "colab": {
          "base_uri": "https://localhost:8080/"
        },
        "id": "1f91669a",
        "outputId": "efe76c58-15e5-449c-c375-29e4db0bc3ee"
      },
      "outputs": [
        {
          "output_type": "stream",
          "name": "stdout",
          "text": [
            "Requirement already satisfied: category_encoders in /usr/local/lib/python3.10/dist-packages (2.6.1)\n",
            "Requirement already satisfied: numpy>=1.14.0 in /usr/local/lib/python3.10/dist-packages (from category_encoders) (1.22.4)\n",
            "Requirement already satisfied: scikit-learn>=0.20.0 in /usr/local/lib/python3.10/dist-packages (from category_encoders) (1.2.2)\n",
            "Requirement already satisfied: scipy>=1.0.0 in /usr/local/lib/python3.10/dist-packages (from category_encoders) (1.10.1)\n",
            "Requirement already satisfied: statsmodels>=0.9.0 in /usr/local/lib/python3.10/dist-packages (from category_encoders) (0.13.5)\n",
            "Requirement already satisfied: pandas>=1.0.5 in /usr/local/lib/python3.10/dist-packages (from category_encoders) (1.5.3)\n",
            "Requirement already satisfied: patsy>=0.5.1 in /usr/local/lib/python3.10/dist-packages (from category_encoders) (0.5.3)\n",
            "Requirement already satisfied: python-dateutil>=2.8.1 in /usr/local/lib/python3.10/dist-packages (from pandas>=1.0.5->category_encoders) (2.8.2)\n",
            "Requirement already satisfied: pytz>=2020.1 in /usr/local/lib/python3.10/dist-packages (from pandas>=1.0.5->category_encoders) (2022.7.1)\n",
            "Requirement already satisfied: six in /usr/local/lib/python3.10/dist-packages (from patsy>=0.5.1->category_encoders) (1.16.0)\n",
            "Requirement already satisfied: joblib>=1.1.1 in /usr/local/lib/python3.10/dist-packages (from scikit-learn>=0.20.0->category_encoders) (1.3.1)\n",
            "Requirement already satisfied: threadpoolctl>=2.0.0 in /usr/local/lib/python3.10/dist-packages (from scikit-learn>=0.20.0->category_encoders) (3.2.0)\n",
            "Requirement already satisfied: packaging>=21.3 in /usr/local/lib/python3.10/dist-packages (from statsmodels>=0.9.0->category_encoders) (23.1)\n"
          ]
        }
      ],
      "source": [
        "import pandas as pd\n",
        "import sklearn\n",
        "sklearn.set_config(transform_output=\"pandas\")\n",
        "!pip install category_encoders\n",
        "import category_encoders as ce\n",
        "# from sklearn.model_selection import train_test_split\n"
      ]
    },
    {
      "cell_type": "code",
      "execution_count": 395,
      "id": "a7bacbc6",
      "metadata": {
        "id": "a7bacbc6"
      },
      "outputs": [],
      "source": [
        "# train_validation = pd.read_csv('train.csv')\n",
        "train_validation = pd.read_csv('/content/train.csv')"
      ]
    },
    {
      "cell_type": "code",
      "execution_count": 396,
      "id": "a6648b7c",
      "metadata": {
        "id": "a6648b7c"
      },
      "outputs": [],
      "source": [
        "cut = int(len(train_validation)*0.8)\n",
        "X_train = train_validation.iloc[:cut].drop('num_sold',axis = 1)\n",
        "y_train = train_validation.iloc[:cut].loc[:,'num_sold'] #a Serie, not a df\n",
        "\n",
        "X_validation = train_validation.iloc[cut:].drop('num_sold',axis = 1)\n",
        "y_validation = train_validation.iloc[cut:].loc[:,'num_sold'] #a Serie, not a df"
      ]
    },
    {
      "cell_type": "markdown",
      "id": "bb32641a",
      "metadata": {
        "id": "bb32641a"
      },
      "source": [
        "# Data exploration and pre-processing"
      ]
    },
    {
      "cell_type": "code",
      "execution_count": 397,
      "id": "6c6a95b6",
      "metadata": {
        "colab": {
          "base_uri": "https://localhost:8080/",
          "height": 0
        },
        "id": "6c6a95b6",
        "outputId": "d569fa90-68e8-4297-eb6a-128bd9a74185"
      },
      "outputs": [
        {
          "output_type": "execute_result",
          "data": {
            "text/plain": [
              "   id        date    country         store  \\\n",
              "0   0  2017-01-01  Argentina  Kaggle Learn   \n",
              "1   1  2017-01-01  Argentina  Kaggle Learn   \n",
              "2   2  2017-01-01  Argentina  Kaggle Learn   \n",
              "3   3  2017-01-01  Argentina  Kaggle Learn   \n",
              "4   4  2017-01-01  Argentina  Kaggle Learn   \n",
              "\n",
              "                                          product  \n",
              "0               Using LLMs to Improve Your Coding  \n",
              "1                   Using LLMs to Train More LLMs  \n",
              "2  Using LLMs to Win Friends and Influence People  \n",
              "3      Using LLMs to Win More Kaggle Competitions  \n",
              "4                      Using LLMs to Write Better  "
            ],
            "text/html": [
              "\n",
              "\n",
              "  <div id=\"df-59d42b6b-4194-426b-8824-10dd9e68c653\">\n",
              "    <div class=\"colab-df-container\">\n",
              "      <div>\n",
              "<style scoped>\n",
              "    .dataframe tbody tr th:only-of-type {\n",
              "        vertical-align: middle;\n",
              "    }\n",
              "\n",
              "    .dataframe tbody tr th {\n",
              "        vertical-align: top;\n",
              "    }\n",
              "\n",
              "    .dataframe thead th {\n",
              "        text-align: right;\n",
              "    }\n",
              "</style>\n",
              "<table border=\"1\" class=\"dataframe\">\n",
              "  <thead>\n",
              "    <tr style=\"text-align: right;\">\n",
              "      <th></th>\n",
              "      <th>id</th>\n",
              "      <th>date</th>\n",
              "      <th>country</th>\n",
              "      <th>store</th>\n",
              "      <th>product</th>\n",
              "    </tr>\n",
              "  </thead>\n",
              "  <tbody>\n",
              "    <tr>\n",
              "      <th>0</th>\n",
              "      <td>0</td>\n",
              "      <td>2017-01-01</td>\n",
              "      <td>Argentina</td>\n",
              "      <td>Kaggle Learn</td>\n",
              "      <td>Using LLMs to Improve Your Coding</td>\n",
              "    </tr>\n",
              "    <tr>\n",
              "      <th>1</th>\n",
              "      <td>1</td>\n",
              "      <td>2017-01-01</td>\n",
              "      <td>Argentina</td>\n",
              "      <td>Kaggle Learn</td>\n",
              "      <td>Using LLMs to Train More LLMs</td>\n",
              "    </tr>\n",
              "    <tr>\n",
              "      <th>2</th>\n",
              "      <td>2</td>\n",
              "      <td>2017-01-01</td>\n",
              "      <td>Argentina</td>\n",
              "      <td>Kaggle Learn</td>\n",
              "      <td>Using LLMs to Win Friends and Influence People</td>\n",
              "    </tr>\n",
              "    <tr>\n",
              "      <th>3</th>\n",
              "      <td>3</td>\n",
              "      <td>2017-01-01</td>\n",
              "      <td>Argentina</td>\n",
              "      <td>Kaggle Learn</td>\n",
              "      <td>Using LLMs to Win More Kaggle Competitions</td>\n",
              "    </tr>\n",
              "    <tr>\n",
              "      <th>4</th>\n",
              "      <td>4</td>\n",
              "      <td>2017-01-01</td>\n",
              "      <td>Argentina</td>\n",
              "      <td>Kaggle Learn</td>\n",
              "      <td>Using LLMs to Write Better</td>\n",
              "    </tr>\n",
              "  </tbody>\n",
              "</table>\n",
              "</div>\n",
              "      <button class=\"colab-df-convert\" onclick=\"convertToInteractive('df-59d42b6b-4194-426b-8824-10dd9e68c653')\"\n",
              "              title=\"Convert this dataframe to an interactive table.\"\n",
              "              style=\"display:none;\">\n",
              "\n",
              "  <svg xmlns=\"http://www.w3.org/2000/svg\" height=\"24px\"viewBox=\"0 0 24 24\"\n",
              "       width=\"24px\">\n",
              "    <path d=\"M0 0h24v24H0V0z\" fill=\"none\"/>\n",
              "    <path d=\"M18.56 5.44l.94 2.06.94-2.06 2.06-.94-2.06-.94-.94-2.06-.94 2.06-2.06.94zm-11 1L8.5 8.5l.94-2.06 2.06-.94-2.06-.94L8.5 2.5l-.94 2.06-2.06.94zm10 10l.94 2.06.94-2.06 2.06-.94-2.06-.94-.94-2.06-.94 2.06-2.06.94z\"/><path d=\"M17.41 7.96l-1.37-1.37c-.4-.4-.92-.59-1.43-.59-.52 0-1.04.2-1.43.59L10.3 9.45l-7.72 7.72c-.78.78-.78 2.05 0 2.83L4 21.41c.39.39.9.59 1.41.59.51 0 1.02-.2 1.41-.59l7.78-7.78 2.81-2.81c.8-.78.8-2.07 0-2.86zM5.41 20L4 18.59l7.72-7.72 1.47 1.35L5.41 20z\"/>\n",
              "  </svg>\n",
              "      </button>\n",
              "\n",
              "\n",
              "\n",
              "    <div id=\"df-e1690909-5d43-4341-bfc0-dc3294f55fe9\">\n",
              "      <button class=\"colab-df-quickchart\" onclick=\"quickchart('df-e1690909-5d43-4341-bfc0-dc3294f55fe9')\"\n",
              "              title=\"Suggest charts.\"\n",
              "              style=\"display:none;\">\n",
              "\n",
              "<svg xmlns=\"http://www.w3.org/2000/svg\" height=\"24px\"viewBox=\"0 0 24 24\"\n",
              "     width=\"24px\">\n",
              "    <g>\n",
              "        <path d=\"M19 3H5c-1.1 0-2 .9-2 2v14c0 1.1.9 2 2 2h14c1.1 0 2-.9 2-2V5c0-1.1-.9-2-2-2zM9 17H7v-7h2v7zm4 0h-2V7h2v10zm4 0h-2v-4h2v4z\"/>\n",
              "    </g>\n",
              "</svg>\n",
              "      </button>\n",
              "    </div>\n",
              "\n",
              "<style>\n",
              "  .colab-df-quickchart {\n",
              "    background-color: #E8F0FE;\n",
              "    border: none;\n",
              "    border-radius: 50%;\n",
              "    cursor: pointer;\n",
              "    display: none;\n",
              "    fill: #1967D2;\n",
              "    height: 32px;\n",
              "    padding: 0 0 0 0;\n",
              "    width: 32px;\n",
              "  }\n",
              "\n",
              "  .colab-df-quickchart:hover {\n",
              "    background-color: #E2EBFA;\n",
              "    box-shadow: 0px 1px 2px rgba(60, 64, 67, 0.3), 0px 1px 3px 1px rgba(60, 64, 67, 0.15);\n",
              "    fill: #174EA6;\n",
              "  }\n",
              "\n",
              "  [theme=dark] .colab-df-quickchart {\n",
              "    background-color: #3B4455;\n",
              "    fill: #D2E3FC;\n",
              "  }\n",
              "\n",
              "  [theme=dark] .colab-df-quickchart:hover {\n",
              "    background-color: #434B5C;\n",
              "    box-shadow: 0px 1px 3px 1px rgba(0, 0, 0, 0.15);\n",
              "    filter: drop-shadow(0px 1px 2px rgba(0, 0, 0, 0.3));\n",
              "    fill: #FFFFFF;\n",
              "  }\n",
              "</style>\n",
              "\n",
              "    <script>\n",
              "      async function quickchart(key) {\n",
              "        const containerElement = document.querySelector('#' + key);\n",
              "        const charts = await google.colab.kernel.invokeFunction(\n",
              "            'suggestCharts', [key], {});\n",
              "      }\n",
              "    </script>\n",
              "\n",
              "      <script>\n",
              "\n",
              "function displayQuickchartButton(domScope) {\n",
              "  let quickchartButtonEl =\n",
              "    domScope.querySelector('#df-e1690909-5d43-4341-bfc0-dc3294f55fe9 button.colab-df-quickchart');\n",
              "  quickchartButtonEl.style.display =\n",
              "    google.colab.kernel.accessAllowed ? 'block' : 'none';\n",
              "}\n",
              "\n",
              "        displayQuickchartButton(document);\n",
              "      </script>\n",
              "      <style>\n",
              "    .colab-df-container {\n",
              "      display:flex;\n",
              "      flex-wrap:wrap;\n",
              "      gap: 12px;\n",
              "    }\n",
              "\n",
              "    .colab-df-convert {\n",
              "      background-color: #E8F0FE;\n",
              "      border: none;\n",
              "      border-radius: 50%;\n",
              "      cursor: pointer;\n",
              "      display: none;\n",
              "      fill: #1967D2;\n",
              "      height: 32px;\n",
              "      padding: 0 0 0 0;\n",
              "      width: 32px;\n",
              "    }\n",
              "\n",
              "    .colab-df-convert:hover {\n",
              "      background-color: #E2EBFA;\n",
              "      box-shadow: 0px 1px 2px rgba(60, 64, 67, 0.3), 0px 1px 3px 1px rgba(60, 64, 67, 0.15);\n",
              "      fill: #174EA6;\n",
              "    }\n",
              "\n",
              "    [theme=dark] .colab-df-convert {\n",
              "      background-color: #3B4455;\n",
              "      fill: #D2E3FC;\n",
              "    }\n",
              "\n",
              "    [theme=dark] .colab-df-convert:hover {\n",
              "      background-color: #434B5C;\n",
              "      box-shadow: 0px 1px 3px 1px rgba(0, 0, 0, 0.15);\n",
              "      filter: drop-shadow(0px 1px 2px rgba(0, 0, 0, 0.3));\n",
              "      fill: #FFFFFF;\n",
              "    }\n",
              "  </style>\n",
              "\n",
              "      <script>\n",
              "        const buttonEl =\n",
              "          document.querySelector('#df-59d42b6b-4194-426b-8824-10dd9e68c653 button.colab-df-convert');\n",
              "        buttonEl.style.display =\n",
              "          google.colab.kernel.accessAllowed ? 'block' : 'none';\n",
              "\n",
              "        async function convertToInteractive(key) {\n",
              "          const element = document.querySelector('#df-59d42b6b-4194-426b-8824-10dd9e68c653');\n",
              "          const dataTable =\n",
              "            await google.colab.kernel.invokeFunction('convertToInteractive',\n",
              "                                                     [key], {});\n",
              "          if (!dataTable) return;\n",
              "\n",
              "          const docLinkHtml = 'Like what you see? Visit the ' +\n",
              "            '<a target=\"_blank\" href=https://colab.research.google.com/notebooks/data_table.ipynb>data table notebook</a>'\n",
              "            + ' to learn more about interactive tables.';\n",
              "          element.innerHTML = '';\n",
              "          dataTable['output_type'] = 'display_data';\n",
              "          await google.colab.output.renderOutput(dataTable, element);\n",
              "          const docLink = document.createElement('div');\n",
              "          docLink.innerHTML = docLinkHtml;\n",
              "          element.appendChild(docLink);\n",
              "        }\n",
              "      </script>\n",
              "    </div>\n",
              "  </div>\n"
            ]
          },
          "metadata": {},
          "execution_count": 397
        }
      ],
      "source": [
        "X_train.head()"
      ]
    },
    {
      "cell_type": "code",
      "execution_count": 398,
      "id": "cefc85aa",
      "metadata": {
        "colab": {
          "base_uri": "https://localhost:8080/"
        },
        "id": "cefc85aa",
        "outputId": "8f2cbe2c-3f40-4da2-db35-ed365260e99b"
      },
      "outputs": [
        {
          "output_type": "stream",
          "name": "stdout",
          "text": [
            "<class 'pandas.core.frame.DataFrame'>\n",
            "RangeIndex: 136950 entries, 0 to 136949\n",
            "Data columns (total 6 columns):\n",
            " #   Column    Non-Null Count   Dtype \n",
            "---  ------    --------------   ----- \n",
            " 0   id        136950 non-null  int64 \n",
            " 1   date      136950 non-null  object\n",
            " 2   country   136950 non-null  object\n",
            " 3   store     136950 non-null  object\n",
            " 4   product   136950 non-null  object\n",
            " 5   num_sold  136950 non-null  int64 \n",
            "dtypes: int64(2), object(4)\n",
            "memory usage: 6.3+ MB\n"
          ]
        }
      ],
      "source": [
        "train_validation.info() # no nan values"
      ]
    },
    {
      "cell_type": "code",
      "execution_count": 399,
      "id": "579f28bf",
      "metadata": {
        "colab": {
          "base_uri": "https://localhost:8080/",
          "height": 0
        },
        "id": "579f28bf",
        "outputId": "177303ff-0c9d-45bb-9ec7-413af7fd1b0a"
      },
      "outputs": [
        {
          "output_type": "execute_result",
          "data": {
            "text/plain": [
              "'yes'"
            ],
            "application/vnd.google.colaboratory.intrinsic+json": {
              "type": "string"
            }
          },
          "metadata": {},
          "execution_count": 399
        }
      ],
      "source": [
        "def its_ordered(df):\n",
        "    for i in range(1,len(df.date)):\n",
        "        ordered = True\n",
        "        if df.date[i] < df.date[i-1]:\n",
        "            ordered = False\n",
        "            print(i)\n",
        "            break\n",
        "\n",
        "    return 'yes' if ordered else 'no'\n",
        "\n",
        "its_ordered(train_validation)"
      ]
    },
    {
      "cell_type": "markdown",
      "id": "83d63622",
      "metadata": {
        "id": "83d63622"
      },
      "source": [
        "## visual analysis"
      ]
    },
    {
      "cell_type": "code",
      "execution_count": 400,
      "id": "74c5c54d",
      "metadata": {
        "id": "74c5c54d"
      },
      "outputs": [],
      "source": [
        "import matplotlib.pyplot as plt\n",
        "import seaborn as sns"
      ]
    },
    {
      "cell_type": "code",
      "execution_count": 401,
      "id": "fa555ad2",
      "metadata": {
        "colab": {
          "base_uri": "https://localhost:8080/",
          "height": 0
        },
        "id": "fa555ad2",
        "outputId": "0f23d841-9e73-4462-b274-5e02757df32a"
      },
      "outputs": [
        {
          "output_type": "execute_result",
          "data": {
            "text/plain": [
              "   id        date    country         store  \\\n",
              "0   0  2017-01-01  Argentina  Kaggle Learn   \n",
              "1   1  2017-01-01  Argentina  Kaggle Learn   \n",
              "2   2  2017-01-01  Argentina  Kaggle Learn   \n",
              "3   3  2017-01-01  Argentina  Kaggle Learn   \n",
              "4   4  2017-01-01  Argentina  Kaggle Learn   \n",
              "\n",
              "                                          product  num_sold  \n",
              "0               Using LLMs to Improve Your Coding        63  \n",
              "1                   Using LLMs to Train More LLMs        66  \n",
              "2  Using LLMs to Win Friends and Influence People         9  \n",
              "3      Using LLMs to Win More Kaggle Competitions        59  \n",
              "4                      Using LLMs to Write Better        49  "
            ],
            "text/html": [
              "\n",
              "\n",
              "  <div id=\"df-3df422c5-604c-496c-b577-6d215673075e\">\n",
              "    <div class=\"colab-df-container\">\n",
              "      <div>\n",
              "<style scoped>\n",
              "    .dataframe tbody tr th:only-of-type {\n",
              "        vertical-align: middle;\n",
              "    }\n",
              "\n",
              "    .dataframe tbody tr th {\n",
              "        vertical-align: top;\n",
              "    }\n",
              "\n",
              "    .dataframe thead th {\n",
              "        text-align: right;\n",
              "    }\n",
              "</style>\n",
              "<table border=\"1\" class=\"dataframe\">\n",
              "  <thead>\n",
              "    <tr style=\"text-align: right;\">\n",
              "      <th></th>\n",
              "      <th>id</th>\n",
              "      <th>date</th>\n",
              "      <th>country</th>\n",
              "      <th>store</th>\n",
              "      <th>product</th>\n",
              "      <th>num_sold</th>\n",
              "    </tr>\n",
              "  </thead>\n",
              "  <tbody>\n",
              "    <tr>\n",
              "      <th>0</th>\n",
              "      <td>0</td>\n",
              "      <td>2017-01-01</td>\n",
              "      <td>Argentina</td>\n",
              "      <td>Kaggle Learn</td>\n",
              "      <td>Using LLMs to Improve Your Coding</td>\n",
              "      <td>63</td>\n",
              "    </tr>\n",
              "    <tr>\n",
              "      <th>1</th>\n",
              "      <td>1</td>\n",
              "      <td>2017-01-01</td>\n",
              "      <td>Argentina</td>\n",
              "      <td>Kaggle Learn</td>\n",
              "      <td>Using LLMs to Train More LLMs</td>\n",
              "      <td>66</td>\n",
              "    </tr>\n",
              "    <tr>\n",
              "      <th>2</th>\n",
              "      <td>2</td>\n",
              "      <td>2017-01-01</td>\n",
              "      <td>Argentina</td>\n",
              "      <td>Kaggle Learn</td>\n",
              "      <td>Using LLMs to Win Friends and Influence People</td>\n",
              "      <td>9</td>\n",
              "    </tr>\n",
              "    <tr>\n",
              "      <th>3</th>\n",
              "      <td>3</td>\n",
              "      <td>2017-01-01</td>\n",
              "      <td>Argentina</td>\n",
              "      <td>Kaggle Learn</td>\n",
              "      <td>Using LLMs to Win More Kaggle Competitions</td>\n",
              "      <td>59</td>\n",
              "    </tr>\n",
              "    <tr>\n",
              "      <th>4</th>\n",
              "      <td>4</td>\n",
              "      <td>2017-01-01</td>\n",
              "      <td>Argentina</td>\n",
              "      <td>Kaggle Learn</td>\n",
              "      <td>Using LLMs to Write Better</td>\n",
              "      <td>49</td>\n",
              "    </tr>\n",
              "  </tbody>\n",
              "</table>\n",
              "</div>\n",
              "      <button class=\"colab-df-convert\" onclick=\"convertToInteractive('df-3df422c5-604c-496c-b577-6d215673075e')\"\n",
              "              title=\"Convert this dataframe to an interactive table.\"\n",
              "              style=\"display:none;\">\n",
              "\n",
              "  <svg xmlns=\"http://www.w3.org/2000/svg\" height=\"24px\"viewBox=\"0 0 24 24\"\n",
              "       width=\"24px\">\n",
              "    <path d=\"M0 0h24v24H0V0z\" fill=\"none\"/>\n",
              "    <path d=\"M18.56 5.44l.94 2.06.94-2.06 2.06-.94-2.06-.94-.94-2.06-.94 2.06-2.06.94zm-11 1L8.5 8.5l.94-2.06 2.06-.94-2.06-.94L8.5 2.5l-.94 2.06-2.06.94zm10 10l.94 2.06.94-2.06 2.06-.94-2.06-.94-.94-2.06-.94 2.06-2.06.94z\"/><path d=\"M17.41 7.96l-1.37-1.37c-.4-.4-.92-.59-1.43-.59-.52 0-1.04.2-1.43.59L10.3 9.45l-7.72 7.72c-.78.78-.78 2.05 0 2.83L4 21.41c.39.39.9.59 1.41.59.51 0 1.02-.2 1.41-.59l7.78-7.78 2.81-2.81c.8-.78.8-2.07 0-2.86zM5.41 20L4 18.59l7.72-7.72 1.47 1.35L5.41 20z\"/>\n",
              "  </svg>\n",
              "      </button>\n",
              "\n",
              "\n",
              "\n",
              "    <div id=\"df-b3d28b9b-0080-4e94-8a75-800d80ba3ba0\">\n",
              "      <button class=\"colab-df-quickchart\" onclick=\"quickchart('df-b3d28b9b-0080-4e94-8a75-800d80ba3ba0')\"\n",
              "              title=\"Suggest charts.\"\n",
              "              style=\"display:none;\">\n",
              "\n",
              "<svg xmlns=\"http://www.w3.org/2000/svg\" height=\"24px\"viewBox=\"0 0 24 24\"\n",
              "     width=\"24px\">\n",
              "    <g>\n",
              "        <path d=\"M19 3H5c-1.1 0-2 .9-2 2v14c0 1.1.9 2 2 2h14c1.1 0 2-.9 2-2V5c0-1.1-.9-2-2-2zM9 17H7v-7h2v7zm4 0h-2V7h2v10zm4 0h-2v-4h2v4z\"/>\n",
              "    </g>\n",
              "</svg>\n",
              "      </button>\n",
              "    </div>\n",
              "\n",
              "<style>\n",
              "  .colab-df-quickchart {\n",
              "    background-color: #E8F0FE;\n",
              "    border: none;\n",
              "    border-radius: 50%;\n",
              "    cursor: pointer;\n",
              "    display: none;\n",
              "    fill: #1967D2;\n",
              "    height: 32px;\n",
              "    padding: 0 0 0 0;\n",
              "    width: 32px;\n",
              "  }\n",
              "\n",
              "  .colab-df-quickchart:hover {\n",
              "    background-color: #E2EBFA;\n",
              "    box-shadow: 0px 1px 2px rgba(60, 64, 67, 0.3), 0px 1px 3px 1px rgba(60, 64, 67, 0.15);\n",
              "    fill: #174EA6;\n",
              "  }\n",
              "\n",
              "  [theme=dark] .colab-df-quickchart {\n",
              "    background-color: #3B4455;\n",
              "    fill: #D2E3FC;\n",
              "  }\n",
              "\n",
              "  [theme=dark] .colab-df-quickchart:hover {\n",
              "    background-color: #434B5C;\n",
              "    box-shadow: 0px 1px 3px 1px rgba(0, 0, 0, 0.15);\n",
              "    filter: drop-shadow(0px 1px 2px rgba(0, 0, 0, 0.3));\n",
              "    fill: #FFFFFF;\n",
              "  }\n",
              "</style>\n",
              "\n",
              "    <script>\n",
              "      async function quickchart(key) {\n",
              "        const containerElement = document.querySelector('#' + key);\n",
              "        const charts = await google.colab.kernel.invokeFunction(\n",
              "            'suggestCharts', [key], {});\n",
              "      }\n",
              "    </script>\n",
              "\n",
              "      <script>\n",
              "\n",
              "function displayQuickchartButton(domScope) {\n",
              "  let quickchartButtonEl =\n",
              "    domScope.querySelector('#df-b3d28b9b-0080-4e94-8a75-800d80ba3ba0 button.colab-df-quickchart');\n",
              "  quickchartButtonEl.style.display =\n",
              "    google.colab.kernel.accessAllowed ? 'block' : 'none';\n",
              "}\n",
              "\n",
              "        displayQuickchartButton(document);\n",
              "      </script>\n",
              "      <style>\n",
              "    .colab-df-container {\n",
              "      display:flex;\n",
              "      flex-wrap:wrap;\n",
              "      gap: 12px;\n",
              "    }\n",
              "\n",
              "    .colab-df-convert {\n",
              "      background-color: #E8F0FE;\n",
              "      border: none;\n",
              "      border-radius: 50%;\n",
              "      cursor: pointer;\n",
              "      display: none;\n",
              "      fill: #1967D2;\n",
              "      height: 32px;\n",
              "      padding: 0 0 0 0;\n",
              "      width: 32px;\n",
              "    }\n",
              "\n",
              "    .colab-df-convert:hover {\n",
              "      background-color: #E2EBFA;\n",
              "      box-shadow: 0px 1px 2px rgba(60, 64, 67, 0.3), 0px 1px 3px 1px rgba(60, 64, 67, 0.15);\n",
              "      fill: #174EA6;\n",
              "    }\n",
              "\n",
              "    [theme=dark] .colab-df-convert {\n",
              "      background-color: #3B4455;\n",
              "      fill: #D2E3FC;\n",
              "    }\n",
              "\n",
              "    [theme=dark] .colab-df-convert:hover {\n",
              "      background-color: #434B5C;\n",
              "      box-shadow: 0px 1px 3px 1px rgba(0, 0, 0, 0.15);\n",
              "      filter: drop-shadow(0px 1px 2px rgba(0, 0, 0, 0.3));\n",
              "      fill: #FFFFFF;\n",
              "    }\n",
              "  </style>\n",
              "\n",
              "      <script>\n",
              "        const buttonEl =\n",
              "          document.querySelector('#df-3df422c5-604c-496c-b577-6d215673075e button.colab-df-convert');\n",
              "        buttonEl.style.display =\n",
              "          google.colab.kernel.accessAllowed ? 'block' : 'none';\n",
              "\n",
              "        async function convertToInteractive(key) {\n",
              "          const element = document.querySelector('#df-3df422c5-604c-496c-b577-6d215673075e');\n",
              "          const dataTable =\n",
              "            await google.colab.kernel.invokeFunction('convertToInteractive',\n",
              "                                                     [key], {});\n",
              "          if (!dataTable) return;\n",
              "\n",
              "          const docLinkHtml = 'Like what you see? Visit the ' +\n",
              "            '<a target=\"_blank\" href=https://colab.research.google.com/notebooks/data_table.ipynb>data table notebook</a>'\n",
              "            + ' to learn more about interactive tables.';\n",
              "          element.innerHTML = '';\n",
              "          dataTable['output_type'] = 'display_data';\n",
              "          await google.colab.output.renderOutput(dataTable, element);\n",
              "          const docLink = document.createElement('div');\n",
              "          docLink.innerHTML = docLinkHtml;\n",
              "          element.appendChild(docLink);\n",
              "        }\n",
              "      </script>\n",
              "    </div>\n",
              "  </div>\n"
            ]
          },
          "metadata": {},
          "execution_count": 401
        }
      ],
      "source": [
        "train_validation.head()"
      ]
    },
    {
      "cell_type": "code",
      "execution_count": 402,
      "id": "2bce61af",
      "metadata": {
        "id": "2bce61af"
      },
      "outputs": [],
      "source": [
        "df = train_validation"
      ]
    },
    {
      "cell_type": "code",
      "execution_count": 403,
      "id": "aaced678",
      "metadata": {
        "colab": {
          "base_uri": "https://localhost:8080/",
          "height": 0
        },
        "id": "aaced678",
        "outputId": "f7d270b4-6b56-4511-a7f9-38fe91faacfc"
      },
      "outputs": [
        {
          "output_type": "execute_result",
          "data": {
            "text/plain": [
              "                                                num_sold     id\n",
              "product                                                        \n",
              "Using LLMs to Improve Your Coding                6069281  27390\n",
              "Using LLMs to Train More LLMs                    5993975  27390\n",
              "Using LLMs to Win Friends and Influence People    932564  27390\n",
              "Using LLMs to Win More Kaggle Competitions       5068313  27390\n",
              "Using LLMs to Write Better                       4604192  27390"
            ],
            "text/html": [
              "\n",
              "\n",
              "  <div id=\"df-f51ae3c2-3b6b-487d-b929-be76a1757135\">\n",
              "    <div class=\"colab-df-container\">\n",
              "      <div>\n",
              "<style scoped>\n",
              "    .dataframe tbody tr th:only-of-type {\n",
              "        vertical-align: middle;\n",
              "    }\n",
              "\n",
              "    .dataframe tbody tr th {\n",
              "        vertical-align: top;\n",
              "    }\n",
              "\n",
              "    .dataframe thead th {\n",
              "        text-align: right;\n",
              "    }\n",
              "</style>\n",
              "<table border=\"1\" class=\"dataframe\">\n",
              "  <thead>\n",
              "    <tr style=\"text-align: right;\">\n",
              "      <th></th>\n",
              "      <th>num_sold</th>\n",
              "      <th>id</th>\n",
              "    </tr>\n",
              "    <tr>\n",
              "      <th>product</th>\n",
              "      <th></th>\n",
              "      <th></th>\n",
              "    </tr>\n",
              "  </thead>\n",
              "  <tbody>\n",
              "    <tr>\n",
              "      <th>Using LLMs to Improve Your Coding</th>\n",
              "      <td>6069281</td>\n",
              "      <td>27390</td>\n",
              "    </tr>\n",
              "    <tr>\n",
              "      <th>Using LLMs to Train More LLMs</th>\n",
              "      <td>5993975</td>\n",
              "      <td>27390</td>\n",
              "    </tr>\n",
              "    <tr>\n",
              "      <th>Using LLMs to Win Friends and Influence People</th>\n",
              "      <td>932564</td>\n",
              "      <td>27390</td>\n",
              "    </tr>\n",
              "    <tr>\n",
              "      <th>Using LLMs to Win More Kaggle Competitions</th>\n",
              "      <td>5068313</td>\n",
              "      <td>27390</td>\n",
              "    </tr>\n",
              "    <tr>\n",
              "      <th>Using LLMs to Write Better</th>\n",
              "      <td>4604192</td>\n",
              "      <td>27390</td>\n",
              "    </tr>\n",
              "  </tbody>\n",
              "</table>\n",
              "</div>\n",
              "      <button class=\"colab-df-convert\" onclick=\"convertToInteractive('df-f51ae3c2-3b6b-487d-b929-be76a1757135')\"\n",
              "              title=\"Convert this dataframe to an interactive table.\"\n",
              "              style=\"display:none;\">\n",
              "\n",
              "  <svg xmlns=\"http://www.w3.org/2000/svg\" height=\"24px\"viewBox=\"0 0 24 24\"\n",
              "       width=\"24px\">\n",
              "    <path d=\"M0 0h24v24H0V0z\" fill=\"none\"/>\n",
              "    <path d=\"M18.56 5.44l.94 2.06.94-2.06 2.06-.94-2.06-.94-.94-2.06-.94 2.06-2.06.94zm-11 1L8.5 8.5l.94-2.06 2.06-.94-2.06-.94L8.5 2.5l-.94 2.06-2.06.94zm10 10l.94 2.06.94-2.06 2.06-.94-2.06-.94-.94-2.06-.94 2.06-2.06.94z\"/><path d=\"M17.41 7.96l-1.37-1.37c-.4-.4-.92-.59-1.43-.59-.52 0-1.04.2-1.43.59L10.3 9.45l-7.72 7.72c-.78.78-.78 2.05 0 2.83L4 21.41c.39.39.9.59 1.41.59.51 0 1.02-.2 1.41-.59l7.78-7.78 2.81-2.81c.8-.78.8-2.07 0-2.86zM5.41 20L4 18.59l7.72-7.72 1.47 1.35L5.41 20z\"/>\n",
              "  </svg>\n",
              "      </button>\n",
              "\n",
              "\n",
              "\n",
              "    <div id=\"df-7c5c9ed4-2244-40ea-af56-37f9c6599b01\">\n",
              "      <button class=\"colab-df-quickchart\" onclick=\"quickchart('df-7c5c9ed4-2244-40ea-af56-37f9c6599b01')\"\n",
              "              title=\"Suggest charts.\"\n",
              "              style=\"display:none;\">\n",
              "\n",
              "<svg xmlns=\"http://www.w3.org/2000/svg\" height=\"24px\"viewBox=\"0 0 24 24\"\n",
              "     width=\"24px\">\n",
              "    <g>\n",
              "        <path d=\"M19 3H5c-1.1 0-2 .9-2 2v14c0 1.1.9 2 2 2h14c1.1 0 2-.9 2-2V5c0-1.1-.9-2-2-2zM9 17H7v-7h2v7zm4 0h-2V7h2v10zm4 0h-2v-4h2v4z\"/>\n",
              "    </g>\n",
              "</svg>\n",
              "      </button>\n",
              "    </div>\n",
              "\n",
              "<style>\n",
              "  .colab-df-quickchart {\n",
              "    background-color: #E8F0FE;\n",
              "    border: none;\n",
              "    border-radius: 50%;\n",
              "    cursor: pointer;\n",
              "    display: none;\n",
              "    fill: #1967D2;\n",
              "    height: 32px;\n",
              "    padding: 0 0 0 0;\n",
              "    width: 32px;\n",
              "  }\n",
              "\n",
              "  .colab-df-quickchart:hover {\n",
              "    background-color: #E2EBFA;\n",
              "    box-shadow: 0px 1px 2px rgba(60, 64, 67, 0.3), 0px 1px 3px 1px rgba(60, 64, 67, 0.15);\n",
              "    fill: #174EA6;\n",
              "  }\n",
              "\n",
              "  [theme=dark] .colab-df-quickchart {\n",
              "    background-color: #3B4455;\n",
              "    fill: #D2E3FC;\n",
              "  }\n",
              "\n",
              "  [theme=dark] .colab-df-quickchart:hover {\n",
              "    background-color: #434B5C;\n",
              "    box-shadow: 0px 1px 3px 1px rgba(0, 0, 0, 0.15);\n",
              "    filter: drop-shadow(0px 1px 2px rgba(0, 0, 0, 0.3));\n",
              "    fill: #FFFFFF;\n",
              "  }\n",
              "</style>\n",
              "\n",
              "    <script>\n",
              "      async function quickchart(key) {\n",
              "        const containerElement = document.querySelector('#' + key);\n",
              "        const charts = await google.colab.kernel.invokeFunction(\n",
              "            'suggestCharts', [key], {});\n",
              "      }\n",
              "    </script>\n",
              "\n",
              "      <script>\n",
              "\n",
              "function displayQuickchartButton(domScope) {\n",
              "  let quickchartButtonEl =\n",
              "    domScope.querySelector('#df-7c5c9ed4-2244-40ea-af56-37f9c6599b01 button.colab-df-quickchart');\n",
              "  quickchartButtonEl.style.display =\n",
              "    google.colab.kernel.accessAllowed ? 'block' : 'none';\n",
              "}\n",
              "\n",
              "        displayQuickchartButton(document);\n",
              "      </script>\n",
              "      <style>\n",
              "    .colab-df-container {\n",
              "      display:flex;\n",
              "      flex-wrap:wrap;\n",
              "      gap: 12px;\n",
              "    }\n",
              "\n",
              "    .colab-df-convert {\n",
              "      background-color: #E8F0FE;\n",
              "      border: none;\n",
              "      border-radius: 50%;\n",
              "      cursor: pointer;\n",
              "      display: none;\n",
              "      fill: #1967D2;\n",
              "      height: 32px;\n",
              "      padding: 0 0 0 0;\n",
              "      width: 32px;\n",
              "    }\n",
              "\n",
              "    .colab-df-convert:hover {\n",
              "      background-color: #E2EBFA;\n",
              "      box-shadow: 0px 1px 2px rgba(60, 64, 67, 0.3), 0px 1px 3px 1px rgba(60, 64, 67, 0.15);\n",
              "      fill: #174EA6;\n",
              "    }\n",
              "\n",
              "    [theme=dark] .colab-df-convert {\n",
              "      background-color: #3B4455;\n",
              "      fill: #D2E3FC;\n",
              "    }\n",
              "\n",
              "    [theme=dark] .colab-df-convert:hover {\n",
              "      background-color: #434B5C;\n",
              "      box-shadow: 0px 1px 3px 1px rgba(0, 0, 0, 0.15);\n",
              "      filter: drop-shadow(0px 1px 2px rgba(0, 0, 0, 0.3));\n",
              "      fill: #FFFFFF;\n",
              "    }\n",
              "  </style>\n",
              "\n",
              "      <script>\n",
              "        const buttonEl =\n",
              "          document.querySelector('#df-f51ae3c2-3b6b-487d-b929-be76a1757135 button.colab-df-convert');\n",
              "        buttonEl.style.display =\n",
              "          google.colab.kernel.accessAllowed ? 'block' : 'none';\n",
              "\n",
              "        async function convertToInteractive(key) {\n",
              "          const element = document.querySelector('#df-f51ae3c2-3b6b-487d-b929-be76a1757135');\n",
              "          const dataTable =\n",
              "            await google.colab.kernel.invokeFunction('convertToInteractive',\n",
              "                                                     [key], {});\n",
              "          if (!dataTable) return;\n",
              "\n",
              "          const docLinkHtml = 'Like what you see? Visit the ' +\n",
              "            '<a target=\"_blank\" href=https://colab.research.google.com/notebooks/data_table.ipynb>data table notebook</a>'\n",
              "            + ' to learn more about interactive tables.';\n",
              "          element.innerHTML = '';\n",
              "          dataTable['output_type'] = 'display_data';\n",
              "          await google.colab.output.renderOutput(dataTable, element);\n",
              "          const docLink = document.createElement('div');\n",
              "          docLink.innerHTML = docLinkHtml;\n",
              "          element.appendChild(docLink);\n",
              "        }\n",
              "      </script>\n",
              "    </div>\n",
              "  </div>\n"
            ]
          },
          "metadata": {},
          "execution_count": 403
        }
      ],
      "source": [
        "df.groupby('product').agg({'num_sold': 'sum', 'id': 'count'})"
      ]
    },
    {
      "cell_type": "markdown",
      "id": "dea8be9f",
      "metadata": {
        "id": "dea8be9f"
      },
      "source": [
        "**observation**: the dataset is balanced among all products"
      ]
    },
    {
      "cell_type": "code",
      "execution_count": 404,
      "id": "1dde2961",
      "metadata": {
        "colab": {
          "base_uri": "https://localhost:8080/",
          "height": 0
        },
        "id": "1dde2961",
        "outputId": "2d2f1c15-faef-4eb3-dc67-ccf516f2a52d"
      },
      "outputs": [
        {
          "output_type": "execute_result",
          "data": {
            "text/plain": [
              "product     Using LLMs to Improve Your Coding  Using LLMs to Train More LLMs  \\\n",
              "date                                                                           \n",
              "2017-01-01                               5131                           5103   \n",
              "2017-01-02                               4051                           4058   \n",
              "2017-01-03                               3887                           3875   \n",
              "2017-01-04                               3828                           3866   \n",
              "2017-01-05                               3649                           3702   \n",
              "\n",
              "product     Using LLMs to Win Friends and Influence People  \\\n",
              "date                                                         \n",
              "2017-01-01                                             791   \n",
              "2017-01-02                                             639   \n",
              "2017-01-03                                             611   \n",
              "2017-01-04                                             560   \n",
              "2017-01-05                                             570   \n",
              "\n",
              "product     Using LLMs to Win More Kaggle Competitions  \\\n",
              "date                                                     \n",
              "2017-01-01                                        5086   \n",
              "2017-01-02                                        3713   \n",
              "2017-01-03                                        3651   \n",
              "2017-01-04                                        3439   \n",
              "2017-01-05                                        3380   \n",
              "\n",
              "product     Using LLMs to Write Better  \n",
              "date                                    \n",
              "2017-01-01                        3975  \n",
              "2017-01-02                        3102  \n",
              "2017-01-03                        3015  \n",
              "2017-01-04                        2823  \n",
              "2017-01-05                        2782  "
            ],
            "text/html": [
              "\n",
              "\n",
              "  <div id=\"df-c0b36842-5021-4331-bfe1-3ab599ce3f73\">\n",
              "    <div class=\"colab-df-container\">\n",
              "      <div>\n",
              "<style scoped>\n",
              "    .dataframe tbody tr th:only-of-type {\n",
              "        vertical-align: middle;\n",
              "    }\n",
              "\n",
              "    .dataframe tbody tr th {\n",
              "        vertical-align: top;\n",
              "    }\n",
              "\n",
              "    .dataframe thead th {\n",
              "        text-align: right;\n",
              "    }\n",
              "</style>\n",
              "<table border=\"1\" class=\"dataframe\">\n",
              "  <thead>\n",
              "    <tr style=\"text-align: right;\">\n",
              "      <th>product</th>\n",
              "      <th>Using LLMs to Improve Your Coding</th>\n",
              "      <th>Using LLMs to Train More LLMs</th>\n",
              "      <th>Using LLMs to Win Friends and Influence People</th>\n",
              "      <th>Using LLMs to Win More Kaggle Competitions</th>\n",
              "      <th>Using LLMs to Write Better</th>\n",
              "    </tr>\n",
              "    <tr>\n",
              "      <th>date</th>\n",
              "      <th></th>\n",
              "      <th></th>\n",
              "      <th></th>\n",
              "      <th></th>\n",
              "      <th></th>\n",
              "    </tr>\n",
              "  </thead>\n",
              "  <tbody>\n",
              "    <tr>\n",
              "      <th>2017-01-01</th>\n",
              "      <td>5131</td>\n",
              "      <td>5103</td>\n",
              "      <td>791</td>\n",
              "      <td>5086</td>\n",
              "      <td>3975</td>\n",
              "    </tr>\n",
              "    <tr>\n",
              "      <th>2017-01-02</th>\n",
              "      <td>4051</td>\n",
              "      <td>4058</td>\n",
              "      <td>639</td>\n",
              "      <td>3713</td>\n",
              "      <td>3102</td>\n",
              "    </tr>\n",
              "    <tr>\n",
              "      <th>2017-01-03</th>\n",
              "      <td>3887</td>\n",
              "      <td>3875</td>\n",
              "      <td>611</td>\n",
              "      <td>3651</td>\n",
              "      <td>3015</td>\n",
              "    </tr>\n",
              "    <tr>\n",
              "      <th>2017-01-04</th>\n",
              "      <td>3828</td>\n",
              "      <td>3866</td>\n",
              "      <td>560</td>\n",
              "      <td>3439</td>\n",
              "      <td>2823</td>\n",
              "    </tr>\n",
              "    <tr>\n",
              "      <th>2017-01-05</th>\n",
              "      <td>3649</td>\n",
              "      <td>3702</td>\n",
              "      <td>570</td>\n",
              "      <td>3380</td>\n",
              "      <td>2782</td>\n",
              "    </tr>\n",
              "  </tbody>\n",
              "</table>\n",
              "</div>\n",
              "      <button class=\"colab-df-convert\" onclick=\"convertToInteractive('df-c0b36842-5021-4331-bfe1-3ab599ce3f73')\"\n",
              "              title=\"Convert this dataframe to an interactive table.\"\n",
              "              style=\"display:none;\">\n",
              "\n",
              "  <svg xmlns=\"http://www.w3.org/2000/svg\" height=\"24px\"viewBox=\"0 0 24 24\"\n",
              "       width=\"24px\">\n",
              "    <path d=\"M0 0h24v24H0V0z\" fill=\"none\"/>\n",
              "    <path d=\"M18.56 5.44l.94 2.06.94-2.06 2.06-.94-2.06-.94-.94-2.06-.94 2.06-2.06.94zm-11 1L8.5 8.5l.94-2.06 2.06-.94-2.06-.94L8.5 2.5l-.94 2.06-2.06.94zm10 10l.94 2.06.94-2.06 2.06-.94-2.06-.94-.94-2.06-.94 2.06-2.06.94z\"/><path d=\"M17.41 7.96l-1.37-1.37c-.4-.4-.92-.59-1.43-.59-.52 0-1.04.2-1.43.59L10.3 9.45l-7.72 7.72c-.78.78-.78 2.05 0 2.83L4 21.41c.39.39.9.59 1.41.59.51 0 1.02-.2 1.41-.59l7.78-7.78 2.81-2.81c.8-.78.8-2.07 0-2.86zM5.41 20L4 18.59l7.72-7.72 1.47 1.35L5.41 20z\"/>\n",
              "  </svg>\n",
              "      </button>\n",
              "\n",
              "\n",
              "\n",
              "    <div id=\"df-095047a0-36fb-41bc-bc7b-89001fcb0c2c\">\n",
              "      <button class=\"colab-df-quickchart\" onclick=\"quickchart('df-095047a0-36fb-41bc-bc7b-89001fcb0c2c')\"\n",
              "              title=\"Suggest charts.\"\n",
              "              style=\"display:none;\">\n",
              "\n",
              "<svg xmlns=\"http://www.w3.org/2000/svg\" height=\"24px\"viewBox=\"0 0 24 24\"\n",
              "     width=\"24px\">\n",
              "    <g>\n",
              "        <path d=\"M19 3H5c-1.1 0-2 .9-2 2v14c0 1.1.9 2 2 2h14c1.1 0 2-.9 2-2V5c0-1.1-.9-2-2-2zM9 17H7v-7h2v7zm4 0h-2V7h2v10zm4 0h-2v-4h2v4z\"/>\n",
              "    </g>\n",
              "</svg>\n",
              "      </button>\n",
              "    </div>\n",
              "\n",
              "<style>\n",
              "  .colab-df-quickchart {\n",
              "    background-color: #E8F0FE;\n",
              "    border: none;\n",
              "    border-radius: 50%;\n",
              "    cursor: pointer;\n",
              "    display: none;\n",
              "    fill: #1967D2;\n",
              "    height: 32px;\n",
              "    padding: 0 0 0 0;\n",
              "    width: 32px;\n",
              "  }\n",
              "\n",
              "  .colab-df-quickchart:hover {\n",
              "    background-color: #E2EBFA;\n",
              "    box-shadow: 0px 1px 2px rgba(60, 64, 67, 0.3), 0px 1px 3px 1px rgba(60, 64, 67, 0.15);\n",
              "    fill: #174EA6;\n",
              "  }\n",
              "\n",
              "  [theme=dark] .colab-df-quickchart {\n",
              "    background-color: #3B4455;\n",
              "    fill: #D2E3FC;\n",
              "  }\n",
              "\n",
              "  [theme=dark] .colab-df-quickchart:hover {\n",
              "    background-color: #434B5C;\n",
              "    box-shadow: 0px 1px 3px 1px rgba(0, 0, 0, 0.15);\n",
              "    filter: drop-shadow(0px 1px 2px rgba(0, 0, 0, 0.3));\n",
              "    fill: #FFFFFF;\n",
              "  }\n",
              "</style>\n",
              "\n",
              "    <script>\n",
              "      async function quickchart(key) {\n",
              "        const containerElement = document.querySelector('#' + key);\n",
              "        const charts = await google.colab.kernel.invokeFunction(\n",
              "            'suggestCharts', [key], {});\n",
              "      }\n",
              "    </script>\n",
              "\n",
              "      <script>\n",
              "\n",
              "function displayQuickchartButton(domScope) {\n",
              "  let quickchartButtonEl =\n",
              "    domScope.querySelector('#df-095047a0-36fb-41bc-bc7b-89001fcb0c2c button.colab-df-quickchart');\n",
              "  quickchartButtonEl.style.display =\n",
              "    google.colab.kernel.accessAllowed ? 'block' : 'none';\n",
              "}\n",
              "\n",
              "        displayQuickchartButton(document);\n",
              "      </script>\n",
              "      <style>\n",
              "    .colab-df-container {\n",
              "      display:flex;\n",
              "      flex-wrap:wrap;\n",
              "      gap: 12px;\n",
              "    }\n",
              "\n",
              "    .colab-df-convert {\n",
              "      background-color: #E8F0FE;\n",
              "      border: none;\n",
              "      border-radius: 50%;\n",
              "      cursor: pointer;\n",
              "      display: none;\n",
              "      fill: #1967D2;\n",
              "      height: 32px;\n",
              "      padding: 0 0 0 0;\n",
              "      width: 32px;\n",
              "    }\n",
              "\n",
              "    .colab-df-convert:hover {\n",
              "      background-color: #E2EBFA;\n",
              "      box-shadow: 0px 1px 2px rgba(60, 64, 67, 0.3), 0px 1px 3px 1px rgba(60, 64, 67, 0.15);\n",
              "      fill: #174EA6;\n",
              "    }\n",
              "\n",
              "    [theme=dark] .colab-df-convert {\n",
              "      background-color: #3B4455;\n",
              "      fill: #D2E3FC;\n",
              "    }\n",
              "\n",
              "    [theme=dark] .colab-df-convert:hover {\n",
              "      background-color: #434B5C;\n",
              "      box-shadow: 0px 1px 3px 1px rgba(0, 0, 0, 0.15);\n",
              "      filter: drop-shadow(0px 1px 2px rgba(0, 0, 0, 0.3));\n",
              "      fill: #FFFFFF;\n",
              "    }\n",
              "  </style>\n",
              "\n",
              "      <script>\n",
              "        const buttonEl =\n",
              "          document.querySelector('#df-c0b36842-5021-4331-bfe1-3ab599ce3f73 button.colab-df-convert');\n",
              "        buttonEl.style.display =\n",
              "          google.colab.kernel.accessAllowed ? 'block' : 'none';\n",
              "\n",
              "        async function convertToInteractive(key) {\n",
              "          const element = document.querySelector('#df-c0b36842-5021-4331-bfe1-3ab599ce3f73');\n",
              "          const dataTable =\n",
              "            await google.colab.kernel.invokeFunction('convertToInteractive',\n",
              "                                                     [key], {});\n",
              "          if (!dataTable) return;\n",
              "\n",
              "          const docLinkHtml = 'Like what you see? Visit the ' +\n",
              "            '<a target=\"_blank\" href=https://colab.research.google.com/notebooks/data_table.ipynb>data table notebook</a>'\n",
              "            + ' to learn more about interactive tables.';\n",
              "          element.innerHTML = '';\n",
              "          dataTable['output_type'] = 'display_data';\n",
              "          await google.colab.output.renderOutput(dataTable, element);\n",
              "          const docLink = document.createElement('div');\n",
              "          docLink.innerHTML = docLinkHtml;\n",
              "          element.appendChild(docLink);\n",
              "        }\n",
              "      </script>\n",
              "    </div>\n",
              "  </div>\n"
            ]
          },
          "metadata": {},
          "execution_count": 404
        }
      ],
      "source": [
        "pd.pivot_table(data = df, index = 'date', columns = 'product', values='num_sold', aggfunc='sum').head()"
      ]
    },
    {
      "cell_type": "code",
      "execution_count": 405,
      "id": "417955ef",
      "metadata": {
        "colab": {
          "base_uri": "https://localhost:8080/",
          "height": 0
        },
        "id": "417955ef",
        "outputId": "f69a53cf-88ed-4d2e-a870-88aaea7b1264"
      },
      "outputs": [
        {
          "output_type": "execute_result",
          "data": {
            "text/plain": [
              "country     Argentina  Canada  Estonia  Japan  Spain\n",
              "date                                                \n",
              "2017-01-01       2011    6134     2772   5274   3895\n",
              "2017-01-02       1487    5081     2062   3983   2950\n",
              "2017-01-03       1448    5049     1984   3742   2816\n",
              "2017-01-04       1357    4710     1985   3784   2680\n",
              "2017-01-05       1316    4629     1920   3609   2609"
            ],
            "text/html": [
              "\n",
              "\n",
              "  <div id=\"df-9a05d0c5-9352-4049-b79d-130cfd768ed5\">\n",
              "    <div class=\"colab-df-container\">\n",
              "      <div>\n",
              "<style scoped>\n",
              "    .dataframe tbody tr th:only-of-type {\n",
              "        vertical-align: middle;\n",
              "    }\n",
              "\n",
              "    .dataframe tbody tr th {\n",
              "        vertical-align: top;\n",
              "    }\n",
              "\n",
              "    .dataframe thead th {\n",
              "        text-align: right;\n",
              "    }\n",
              "</style>\n",
              "<table border=\"1\" class=\"dataframe\">\n",
              "  <thead>\n",
              "    <tr style=\"text-align: right;\">\n",
              "      <th>country</th>\n",
              "      <th>Argentina</th>\n",
              "      <th>Canada</th>\n",
              "      <th>Estonia</th>\n",
              "      <th>Japan</th>\n",
              "      <th>Spain</th>\n",
              "    </tr>\n",
              "    <tr>\n",
              "      <th>date</th>\n",
              "      <th></th>\n",
              "      <th></th>\n",
              "      <th></th>\n",
              "      <th></th>\n",
              "      <th></th>\n",
              "    </tr>\n",
              "  </thead>\n",
              "  <tbody>\n",
              "    <tr>\n",
              "      <th>2017-01-01</th>\n",
              "      <td>2011</td>\n",
              "      <td>6134</td>\n",
              "      <td>2772</td>\n",
              "      <td>5274</td>\n",
              "      <td>3895</td>\n",
              "    </tr>\n",
              "    <tr>\n",
              "      <th>2017-01-02</th>\n",
              "      <td>1487</td>\n",
              "      <td>5081</td>\n",
              "      <td>2062</td>\n",
              "      <td>3983</td>\n",
              "      <td>2950</td>\n",
              "    </tr>\n",
              "    <tr>\n",
              "      <th>2017-01-03</th>\n",
              "      <td>1448</td>\n",
              "      <td>5049</td>\n",
              "      <td>1984</td>\n",
              "      <td>3742</td>\n",
              "      <td>2816</td>\n",
              "    </tr>\n",
              "    <tr>\n",
              "      <th>2017-01-04</th>\n",
              "      <td>1357</td>\n",
              "      <td>4710</td>\n",
              "      <td>1985</td>\n",
              "      <td>3784</td>\n",
              "      <td>2680</td>\n",
              "    </tr>\n",
              "    <tr>\n",
              "      <th>2017-01-05</th>\n",
              "      <td>1316</td>\n",
              "      <td>4629</td>\n",
              "      <td>1920</td>\n",
              "      <td>3609</td>\n",
              "      <td>2609</td>\n",
              "    </tr>\n",
              "  </tbody>\n",
              "</table>\n",
              "</div>\n",
              "      <button class=\"colab-df-convert\" onclick=\"convertToInteractive('df-9a05d0c5-9352-4049-b79d-130cfd768ed5')\"\n",
              "              title=\"Convert this dataframe to an interactive table.\"\n",
              "              style=\"display:none;\">\n",
              "\n",
              "  <svg xmlns=\"http://www.w3.org/2000/svg\" height=\"24px\"viewBox=\"0 0 24 24\"\n",
              "       width=\"24px\">\n",
              "    <path d=\"M0 0h24v24H0V0z\" fill=\"none\"/>\n",
              "    <path d=\"M18.56 5.44l.94 2.06.94-2.06 2.06-.94-2.06-.94-.94-2.06-.94 2.06-2.06.94zm-11 1L8.5 8.5l.94-2.06 2.06-.94-2.06-.94L8.5 2.5l-.94 2.06-2.06.94zm10 10l.94 2.06.94-2.06 2.06-.94-2.06-.94-.94-2.06-.94 2.06-2.06.94z\"/><path d=\"M17.41 7.96l-1.37-1.37c-.4-.4-.92-.59-1.43-.59-.52 0-1.04.2-1.43.59L10.3 9.45l-7.72 7.72c-.78.78-.78 2.05 0 2.83L4 21.41c.39.39.9.59 1.41.59.51 0 1.02-.2 1.41-.59l7.78-7.78 2.81-2.81c.8-.78.8-2.07 0-2.86zM5.41 20L4 18.59l7.72-7.72 1.47 1.35L5.41 20z\"/>\n",
              "  </svg>\n",
              "      </button>\n",
              "\n",
              "\n",
              "\n",
              "    <div id=\"df-4f76bf9e-2336-4afb-9d24-687e97722675\">\n",
              "      <button class=\"colab-df-quickchart\" onclick=\"quickchart('df-4f76bf9e-2336-4afb-9d24-687e97722675')\"\n",
              "              title=\"Suggest charts.\"\n",
              "              style=\"display:none;\">\n",
              "\n",
              "<svg xmlns=\"http://www.w3.org/2000/svg\" height=\"24px\"viewBox=\"0 0 24 24\"\n",
              "     width=\"24px\">\n",
              "    <g>\n",
              "        <path d=\"M19 3H5c-1.1 0-2 .9-2 2v14c0 1.1.9 2 2 2h14c1.1 0 2-.9 2-2V5c0-1.1-.9-2-2-2zM9 17H7v-7h2v7zm4 0h-2V7h2v10zm4 0h-2v-4h2v4z\"/>\n",
              "    </g>\n",
              "</svg>\n",
              "      </button>\n",
              "    </div>\n",
              "\n",
              "<style>\n",
              "  .colab-df-quickchart {\n",
              "    background-color: #E8F0FE;\n",
              "    border: none;\n",
              "    border-radius: 50%;\n",
              "    cursor: pointer;\n",
              "    display: none;\n",
              "    fill: #1967D2;\n",
              "    height: 32px;\n",
              "    padding: 0 0 0 0;\n",
              "    width: 32px;\n",
              "  }\n",
              "\n",
              "  .colab-df-quickchart:hover {\n",
              "    background-color: #E2EBFA;\n",
              "    box-shadow: 0px 1px 2px rgba(60, 64, 67, 0.3), 0px 1px 3px 1px rgba(60, 64, 67, 0.15);\n",
              "    fill: #174EA6;\n",
              "  }\n",
              "\n",
              "  [theme=dark] .colab-df-quickchart {\n",
              "    background-color: #3B4455;\n",
              "    fill: #D2E3FC;\n",
              "  }\n",
              "\n",
              "  [theme=dark] .colab-df-quickchart:hover {\n",
              "    background-color: #434B5C;\n",
              "    box-shadow: 0px 1px 3px 1px rgba(0, 0, 0, 0.15);\n",
              "    filter: drop-shadow(0px 1px 2px rgba(0, 0, 0, 0.3));\n",
              "    fill: #FFFFFF;\n",
              "  }\n",
              "</style>\n",
              "\n",
              "    <script>\n",
              "      async function quickchart(key) {\n",
              "        const containerElement = document.querySelector('#' + key);\n",
              "        const charts = await google.colab.kernel.invokeFunction(\n",
              "            'suggestCharts', [key], {});\n",
              "      }\n",
              "    </script>\n",
              "\n",
              "      <script>\n",
              "\n",
              "function displayQuickchartButton(domScope) {\n",
              "  let quickchartButtonEl =\n",
              "    domScope.querySelector('#df-4f76bf9e-2336-4afb-9d24-687e97722675 button.colab-df-quickchart');\n",
              "  quickchartButtonEl.style.display =\n",
              "    google.colab.kernel.accessAllowed ? 'block' : 'none';\n",
              "}\n",
              "\n",
              "        displayQuickchartButton(document);\n",
              "      </script>\n",
              "      <style>\n",
              "    .colab-df-container {\n",
              "      display:flex;\n",
              "      flex-wrap:wrap;\n",
              "      gap: 12px;\n",
              "    }\n",
              "\n",
              "    .colab-df-convert {\n",
              "      background-color: #E8F0FE;\n",
              "      border: none;\n",
              "      border-radius: 50%;\n",
              "      cursor: pointer;\n",
              "      display: none;\n",
              "      fill: #1967D2;\n",
              "      height: 32px;\n",
              "      padding: 0 0 0 0;\n",
              "      width: 32px;\n",
              "    }\n",
              "\n",
              "    .colab-df-convert:hover {\n",
              "      background-color: #E2EBFA;\n",
              "      box-shadow: 0px 1px 2px rgba(60, 64, 67, 0.3), 0px 1px 3px 1px rgba(60, 64, 67, 0.15);\n",
              "      fill: #174EA6;\n",
              "    }\n",
              "\n",
              "    [theme=dark] .colab-df-convert {\n",
              "      background-color: #3B4455;\n",
              "      fill: #D2E3FC;\n",
              "    }\n",
              "\n",
              "    [theme=dark] .colab-df-convert:hover {\n",
              "      background-color: #434B5C;\n",
              "      box-shadow: 0px 1px 3px 1px rgba(0, 0, 0, 0.15);\n",
              "      filter: drop-shadow(0px 1px 2px rgba(0, 0, 0, 0.3));\n",
              "      fill: #FFFFFF;\n",
              "    }\n",
              "  </style>\n",
              "\n",
              "      <script>\n",
              "        const buttonEl =\n",
              "          document.querySelector('#df-9a05d0c5-9352-4049-b79d-130cfd768ed5 button.colab-df-convert');\n",
              "        buttonEl.style.display =\n",
              "          google.colab.kernel.accessAllowed ? 'block' : 'none';\n",
              "\n",
              "        async function convertToInteractive(key) {\n",
              "          const element = document.querySelector('#df-9a05d0c5-9352-4049-b79d-130cfd768ed5');\n",
              "          const dataTable =\n",
              "            await google.colab.kernel.invokeFunction('convertToInteractive',\n",
              "                                                     [key], {});\n",
              "          if (!dataTable) return;\n",
              "\n",
              "          const docLinkHtml = 'Like what you see? Visit the ' +\n",
              "            '<a target=\"_blank\" href=https://colab.research.google.com/notebooks/data_table.ipynb>data table notebook</a>'\n",
              "            + ' to learn more about interactive tables.';\n",
              "          element.innerHTML = '';\n",
              "          dataTable['output_type'] = 'display_data';\n",
              "          await google.colab.output.renderOutput(dataTable, element);\n",
              "          const docLink = document.createElement('div');\n",
              "          docLink.innerHTML = docLinkHtml;\n",
              "          element.appendChild(docLink);\n",
              "        }\n",
              "      </script>\n",
              "    </div>\n",
              "  </div>\n"
            ]
          },
          "metadata": {},
          "execution_count": 405
        }
      ],
      "source": [
        "pd.pivot_table(data = df, index = 'date', columns='country', values='num_sold',aggfunc='sum').head()"
      ]
    },
    {
      "cell_type": "code",
      "execution_count": 406,
      "id": "c0190e25",
      "metadata": {
        "id": "c0190e25"
      },
      "outputs": [],
      "source": [
        "df['date'] = pd.to_datetime(df['date'], format='%Y-%m-%d')"
      ]
    },
    {
      "cell_type": "code",
      "execution_count": 407,
      "id": "cf8b80c6",
      "metadata": {
        "id": "cf8b80c6"
      },
      "outputs": [],
      "source": [
        "df['week'] = df.date.map(lambda x: int(x.strftime('%U')))"
      ]
    },
    {
      "cell_type": "code",
      "execution_count": 408,
      "id": "084073a2",
      "metadata": {
        "id": "084073a2"
      },
      "outputs": [],
      "source": [
        "df['month'] = df.date.map(lambda x: int(x.strftime('%m')))"
      ]
    },
    {
      "cell_type": "code",
      "execution_count": 409,
      "id": "f6174ec2",
      "metadata": {
        "id": "f6174ec2"
      },
      "outputs": [],
      "source": [
        "df_week = df.groupby(['week','country']).agg({'num_sold':'sum'}).reset_index()"
      ]
    },
    {
      "cell_type": "code",
      "execution_count": 410,
      "id": "5545bb58",
      "metadata": {
        "id": "5545bb58"
      },
      "outputs": [],
      "source": [
        "df_month = df.groupby(['month','country']).agg({'num_sold':'sum'}).reset_index()"
      ]
    },
    {
      "cell_type": "code",
      "execution_count": 411,
      "id": "7c7736fd",
      "metadata": {
        "colab": {
          "base_uri": "https://localhost:8080/",
          "height": 0
        },
        "id": "7c7736fd",
        "outputId": "32ddb499-c377-410f-e606-95f4ac3712a4"
      },
      "outputs": [
        {
          "output_type": "execute_result",
          "data": {
            "text/plain": [
              "<Axes: xlabel='week', ylabel='num_sold'>"
            ]
          },
          "metadata": {},
          "execution_count": 411
        },
        {
          "output_type": "display_data",
          "data": {
            "text/plain": [
              "<Figure size 640x480 with 1 Axes>"
            ],
            "image/png": "[encoded data removed]"
          },
          "metadata": {}
        }
      ],
      "source": [
        "sns.barplot(data = df, y = 'num_sold', x = 'week', hue='country')"
      ]
    },
    {
      "cell_type": "code",
      "execution_count": 412,
      "id": "d0d085b7",
      "metadata": {
        "colab": {
          "base_uri": "https://localhost:8080/",
          "height": 0
        },
        "id": "d0d085b7",
        "outputId": "ce16750b-7aa5-49ec-cc94-af1d09f47245"
      },
      "outputs": [
        {
          "output_type": "execute_result",
          "data": {
            "text/plain": [
              "<Axes: xlabel='month', ylabel='num_sold'>"
            ]
          },
          "metadata": {},
          "execution_count": 412
        },
        {
          "output_type": "display_data",
          "data": {
            "text/plain": [
              "<Figure size 640x480 with 1 Axes>"
            ],
            "image/png": "[encoded data removed]"
          },
          "metadata": {}
        }
      ],
      "source": [
        "sns.barplot(data = df, y = 'num_sold', x = 'month', hue = 'country')"
      ]
    },
    {
      "cell_type": "markdown",
      "id": "637c4dfd",
      "metadata": {
        "id": "637c4dfd"
      },
      "source": [
        "for a better understanding of the data an intresting visualization could be for each country the num_solds but divided on if it was vacations, pay week of the month, etc."
      ]
    },
    {
      "cell_type": "markdown",
      "id": "d5bf8ffe",
      "metadata": {
        "id": "d5bf8ffe"
      },
      "source": [
        "## preprocessing"
      ]
    },
    {
      "cell_type": "code",
      "execution_count": 413,
      "id": "d5d620dc",
      "metadata": {
        "id": "d5d620dc"
      },
      "outputs": [],
      "source": [
        "X_train['date'] = pd.to_datetime(X_train['date'], format='%Y-%m-%d')\n",
        "X_train['date'] = X_train.date.map(lambda x: int(x.strftime('%U')))"
      ]
    },
    {
      "cell_type": "code",
      "execution_count": 414,
      "id": "309d4fce",
      "metadata": {
        "colab": {
          "base_uri": "https://localhost:8080/"
        },
        "id": "309d4fce",
        "outputId": "f696c4ec-663e-4ff5-a9d5-78dc13421ac7"
      },
      "outputs": [
        {
          "output_type": "execute_result",
          "data": {
            "text/plain": [
              "array(['Argentina', 'Canada', 'Estonia', 'Japan', 'Spain'], dtype=object)"
            ]
          },
          "metadata": {},
          "execution_count": 414
        }
      ],
      "source": [
        "X_train.country.unique() #i'll use binary encoding just because this coud have 195 posible values.\n",
        "# same thing with store and product"
      ]
    },
    {
      "cell_type": "code",
      "execution_count": 415,
      "id": "ea63973a",
      "metadata": {
        "colab": {
          "base_uri": "https://localhost:8080/"
        },
        "id": "ea63973a",
        "outputId": "6fc7f7bd-0acf-4731-d5f9-fa9e24139bc2"
      },
      "outputs": [
        {
          "output_type": "execute_result",
          "data": {
            "text/plain": [
              "array(['Kaggle Learn', 'Kaggle Store', 'Kagglazon'], dtype=object)"
            ]
          },
          "metadata": {},
          "execution_count": 415
        }
      ],
      "source": [
        "X_train.store.unique()"
      ]
    },
    {
      "cell_type": "code",
      "execution_count": 416,
      "id": "0c7e400d",
      "metadata": {
        "colab": {
          "base_uri": "https://localhost:8080/"
        },
        "id": "0c7e400d",
        "outputId": "0d6d8a62-a3a8-49a2-c916-4da1993bbd35"
      },
      "outputs": [
        {
          "output_type": "execute_result",
          "data": {
            "text/plain": [
              "array(['Using LLMs to Improve Your Coding',\n",
              "       'Using LLMs to Train More LLMs',\n",
              "       'Using LLMs to Win Friends and Influence People',\n",
              "       'Using LLMs to Win More Kaggle Competitions',\n",
              "       'Using LLMs to Write Better'], dtype=object)"
            ]
          },
          "metadata": {},
          "execution_count": 416
        }
      ],
      "source": [
        "X_train['product'].unique()"
      ]
    },
    {
      "cell_type": "code",
      "execution_count": 417,
      "id": "51730522",
      "metadata": {
        "id": "51730522"
      },
      "outputs": [],
      "source": [
        "be = ce.binary.BinaryEncoder(cols=['country','store','product'])\n"
      ]
    },
    {
      "cell_type": "code",
      "execution_count": 418,
      "id": "afb2416d",
      "metadata": {
        "id": "afb2416d"
      },
      "outputs": [],
      "source": [
        "X_train = be.fit_transform(X_train)"
      ]
    },
    {
      "cell_type": "code",
      "source": [
        "X_train.set_index('id', inplace=True) #I don't want the id to be taken as a feature"
      ],
      "metadata": {
        "id": "4GygPw0PRH1M"
      },
      "id": "4GygPw0PRH1M",
      "execution_count": 419,
      "outputs": []
    },
    {
      "cell_type": "code",
      "source": [
        "X_train.date = X_train.date / 53 # i want to scale it to be able to use the same encoding for the final model. but its not necesary for the baseline\n"
      ],
      "metadata": {
        "id": "BcB7nUckRbJp"
      },
      "id": "BcB7nUckRbJp",
      "execution_count": 420,
      "outputs": []
    },
    {
      "cell_type": "markdown",
      "id": "0a13ab05",
      "metadata": {
        "id": "0a13ab05"
      },
      "source": [
        "now I do the same preprocessing for the validation set"
      ]
    },
    {
      "cell_type": "code",
      "execution_count": 421,
      "id": "c5e52025",
      "metadata": {
        "id": "c5e52025"
      },
      "outputs": [],
      "source": [
        "X_validation['date'] = pd.to_datetime(X_validation['date'], format='%Y-%m-%d')\n",
        "X_validation['date'] = X_validation.date.map(lambda x: int(x.strftime('%U')))"
      ]
    },
    {
      "cell_type": "code",
      "execution_count": 422,
      "id": "982267bf",
      "metadata": {
        "id": "982267bf"
      },
      "outputs": [],
      "source": [
        "X_validation = be.transform(X_validation)"
      ]
    },
    {
      "cell_type": "code",
      "source": [
        "X_validation.set_index('id', inplace=True)"
      ],
      "metadata": {
        "id": "qPLo4BWlLBjm"
      },
      "execution_count": 423,
      "outputs": [],
      "id": "qPLo4BWlLBjm"
    },
    {
      "cell_type": "code",
      "source": [
        "X_validation.date = X_validation.date / 53"
      ],
      "metadata": {
        "id": "F2l5__wJRBQh"
      },
      "id": "F2l5__wJRBQh",
      "execution_count": 424,
      "outputs": []
    },
    {
      "cell_type": "markdown",
      "id": "b134a8d1",
      "metadata": {
        "id": "b134a8d1"
      },
      "source": [
        "# Baseline"
      ]
    },
    {
      "cell_type": "markdown",
      "id": "41fe18d8",
      "metadata": {
        "id": "41fe18d8"
      },
      "source": [
        "for a baseline i'll use just random forest regresion since there's a few pretty binary choices  that could help a lot to decide"
      ]
    },
    {
      "cell_type": "code",
      "execution_count": null,
      "id": "ae2b4ede",
      "metadata": {
        "id": "ae2b4ede"
      },
      "outputs": [],
      "source": [
        "from sklearn.ensemble import RandomForestRegressor\n",
        "from sklearn.model_selection import RandomizedSearchCV\n"
      ]
    },
    {
      "cell_type": "markdown",
      "id": "2a5487cd",
      "metadata": {
        "id": "2a5487cd"
      },
      "source": [
        "## Training"
      ]
    },
    {
      "cell_type": "code",
      "execution_count": null,
      "id": "b20662b9",
      "metadata": {
        "id": "b20662b9"
      },
      "outputs": [],
      "source": [
        "rf = RandomForestRegressor(\n",
        "    criterion = 'absolute_error',\n",
        "    random_state=27\n",
        ")\n",
        "\n",
        "# params = [\n",
        "    # {'n_estimators': [10, 25, 50, 75, 100, 125, 150, 175]},\n",
        "    # {'max_depth': [None, 2, 5]},\n",
        "    # {'min_samples_split': [2, 4, 10]},\n",
        "    # {'min_samples_leaf': [1, 10, 20, 30, 40, 50]},\n",
        "    # {'bootstrap': [True, False]}\n",
        "# ]\n",
        "#\n",
        "# rs = RandomizedSearchCV(\n",
        "    # rf,\n",
        "    # n_iter=10,\n",
        "    # param_distributions=params,\n",
        "    # random_state=27,\n",
        "    # scoring='neg_mean_absolute_error'\n",
        "# )"
      ]
    },
    {
      "cell_type": "code",
      "execution_count": null,
      "id": "771272f7",
      "metadata": {
        "colab": {
          "base_uri": "https://localhost:8080/",
          "height": 341
        },
        "id": "771272f7",
        "outputId": "edd64693-9cf8-4e84-bad2-0893531c29d1"
      },
      "outputs": [
        {
          "output_type": "error",
          "ename": "KeyboardInterrupt",
          "evalue": "ignored",
          "traceback": [
            "\u001b[0;31m---------------------------------------------------------------------------\u001b[0m",
            "\u001b[0;31mKeyboardInterrupt\u001b[0m                         Traceback (most recent call last)",
            "\u001b[0;32m<ipython-input-255-1d086fcc1471>\u001b[0m in \u001b[0;36m<cell line: 2>\u001b[0;34m()\u001b[0m\n\u001b[1;32m      1\u001b[0m \u001b[0;31m# rs.fit(X_train, y_train)\u001b[0m\u001b[0;34m\u001b[0m\u001b[0;34m\u001b[0m\u001b[0m\n\u001b[0;32m----> 2\u001b[0;31m \u001b[0mrf\u001b[0m\u001b[0;34m.\u001b[0m\u001b[0mfit\u001b[0m\u001b[0;34m(\u001b[0m\u001b[0mX_train\u001b[0m\u001b[0;34m,\u001b[0m \u001b[0my_train\u001b[0m\u001b[0;34m)\u001b[0m\u001b[0;34m\u001b[0m\u001b[0;34m\u001b[0m\u001b[0m\n\u001b[0m",
            "\u001b[0;32m/usr/local/lib/python3.10/dist-packages/sklearn/ensemble/_forest.py\u001b[0m in \u001b[0;36mfit\u001b[0;34m(self, X, y, sample_weight)\u001b[0m\n\u001b[1;32m    471\u001b[0m             \u001b[0;31m# parallel_backend contexts set at a higher level,\u001b[0m\u001b[0;34m\u001b[0m\u001b[0;34m\u001b[0m\u001b[0m\n\u001b[1;32m    472\u001b[0m             \u001b[0;31m# since correctness does not rely on using threads.\u001b[0m\u001b[0;34m\u001b[0m\u001b[0;34m\u001b[0m\u001b[0m\n\u001b[0;32m--> 473\u001b[0;31m             trees = Parallel(\n\u001b[0m\u001b[1;32m    474\u001b[0m                 \u001b[0mn_jobs\u001b[0m\u001b[0;34m=\u001b[0m\u001b[0mself\u001b[0m\u001b[0;34m.\u001b[0m\u001b[0mn_jobs\u001b[0m\u001b[0;34m,\u001b[0m\u001b[0;34m\u001b[0m\u001b[0;34m\u001b[0m\u001b[0m\n\u001b[1;32m    475\u001b[0m                 \u001b[0mverbose\u001b[0m\u001b[0;34m=\u001b[0m\u001b[0mself\u001b[0m\u001b[0;34m.\u001b[0m\u001b[0mverbose\u001b[0m\u001b[0;34m,\u001b[0m\u001b[0;34m\u001b[0m\u001b[0;34m\u001b[0m\u001b[0m\n",
            "\u001b[0;32m/usr/local/lib/python3.10/dist-packages/sklearn/utils/parallel.py\u001b[0m in \u001b[0;36m__call__\u001b[0;34m(self, iterable)\u001b[0m\n\u001b[1;32m     61\u001b[0m             \u001b[0;32mfor\u001b[0m \u001b[0mdelayed_func\u001b[0m\u001b[0;34m,\u001b[0m \u001b[0margs\u001b[0m\u001b[0;34m,\u001b[0m \u001b[0mkwargs\u001b[0m \u001b[0;32min\u001b[0m \u001b[0miterable\u001b[0m\u001b[0;34m\u001b[0m\u001b[0;34m\u001b[0m\u001b[0m\n\u001b[1;32m     62\u001b[0m         )\n\u001b[0;32m---> 63\u001b[0;31m         \u001b[0;32mreturn\u001b[0m \u001b[0msuper\u001b[0m\u001b[0;34m(\u001b[0m\u001b[0;34m)\u001b[0m\u001b[0;34m.\u001b[0m\u001b[0m__call__\u001b[0m\u001b[0;34m(\u001b[0m\u001b[0miterable_with_config\u001b[0m\u001b[0;34m)\u001b[0m\u001b[0;34m\u001b[0m\u001b[0;34m\u001b[0m\u001b[0m\n\u001b[0m\u001b[1;32m     64\u001b[0m \u001b[0;34m\u001b[0m\u001b[0m\n\u001b[1;32m     65\u001b[0m \u001b[0;34m\u001b[0m\u001b[0m\n",
            "\u001b[0;32m/usr/local/lib/python3.10/dist-packages/joblib/parallel.py\u001b[0m in \u001b[0;36m__call__\u001b[0;34m(self, iterable)\u001b[0m\n\u001b[1;32m   1853\u001b[0m             \u001b[0moutput\u001b[0m \u001b[0;34m=\u001b[0m \u001b[0mself\u001b[0m\u001b[0;34m.\u001b[0m\u001b[0m_get_sequential_output\u001b[0m\u001b[0;34m(\u001b[0m\u001b[0miterable\u001b[0m\u001b[0;34m)\u001b[0m\u001b[0;34m\u001b[0m\u001b[0;34m\u001b[0m\u001b[0m\n\u001b[1;32m   1854\u001b[0m             \u001b[0mnext\u001b[0m\u001b[0;34m(\u001b[0m\u001b[0moutput\u001b[0m\u001b[0;34m)\u001b[0m\u001b[0;34m\u001b[0m\u001b[0;34m\u001b[0m\u001b[0m\n\u001b[0;32m-> 1855\u001b[0;31m             \u001b[0;32mreturn\u001b[0m \u001b[0moutput\u001b[0m \u001b[0;32mif\u001b[0m \u001b[0mself\u001b[0m\u001b[0;34m.\u001b[0m\u001b[0mreturn_generator\u001b[0m \u001b[0;32melse\u001b[0m \u001b[0mlist\u001b[0m\u001b[0;34m(\u001b[0m\u001b[0moutput\u001b[0m\u001b[0;34m)\u001b[0m\u001b[0;34m\u001b[0m\u001b[0;34m\u001b[0m\u001b[0m\n\u001b[0m\u001b[1;32m   1856\u001b[0m \u001b[0;34m\u001b[0m\u001b[0m\n\u001b[1;32m   1857\u001b[0m         \u001b[0;31m# Let's create an ID that uniquely identifies the current call. If the\u001b[0m\u001b[0;34m\u001b[0m\u001b[0;34m\u001b[0m\u001b[0m\n",
            "\u001b[0;32m/usr/local/lib/python3.10/dist-packages/joblib/parallel.py\u001b[0m in \u001b[0;36m_get_sequential_output\u001b[0;34m(self, iterable)\u001b[0m\n\u001b[1;32m   1782\u001b[0m                 \u001b[0mself\u001b[0m\u001b[0;34m.\u001b[0m\u001b[0mn_dispatched_batches\u001b[0m \u001b[0;34m+=\u001b[0m \u001b[0;36m1\u001b[0m\u001b[0;34m\u001b[0m\u001b[0;34m\u001b[0m\u001b[0m\n\u001b[1;32m   1783\u001b[0m                 \u001b[0mself\u001b[0m\u001b[0;34m.\u001b[0m\u001b[0mn_dispatched_tasks\u001b[0m \u001b[0;34m+=\u001b[0m \u001b[0;36m1\u001b[0m\u001b[0;34m\u001b[0m\u001b[0;34m\u001b[0m\u001b[0m\n\u001b[0;32m-> 1784\u001b[0;31m                 \u001b[0mres\u001b[0m \u001b[0;34m=\u001b[0m \u001b[0mfunc\u001b[0m\u001b[0;34m(\u001b[0m\u001b[0;34m*\u001b[0m\u001b[0margs\u001b[0m\u001b[0;34m,\u001b[0m \u001b[0;34m**\u001b[0m\u001b[0mkwargs\u001b[0m\u001b[0;34m)\u001b[0m\u001b[0;34m\u001b[0m\u001b[0;34m\u001b[0m\u001b[0m\n\u001b[0m\u001b[1;32m   1785\u001b[0m                 \u001b[0mself\u001b[0m\u001b[0;34m.\u001b[0m\u001b[0mn_completed_tasks\u001b[0m \u001b[0;34m+=\u001b[0m \u001b[0;36m1\u001b[0m\u001b[0;34m\u001b[0m\u001b[0;34m\u001b[0m\u001b[0m\n\u001b[1;32m   1786\u001b[0m                 \u001b[0mself\u001b[0m\u001b[0;34m.\u001b[0m\u001b[0mprint_progress\u001b[0m\u001b[0;34m(\u001b[0m\u001b[0;34m)\u001b[0m\u001b[0;34m\u001b[0m\u001b[0;34m\u001b[0m\u001b[0m\n",
            "\u001b[0;32m/usr/local/lib/python3.10/dist-packages/sklearn/utils/parallel.py\u001b[0m in \u001b[0;36m__call__\u001b[0;34m(self, *args, **kwargs)\u001b[0m\n\u001b[1;32m    121\u001b[0m             \u001b[0mconfig\u001b[0m \u001b[0;34m=\u001b[0m \u001b[0;34m{\u001b[0m\u001b[0;34m}\u001b[0m\u001b[0;34m\u001b[0m\u001b[0;34m\u001b[0m\u001b[0m\n\u001b[1;32m    122\u001b[0m         \u001b[0;32mwith\u001b[0m \u001b[0mconfig_context\u001b[0m\u001b[0;34m(\u001b[0m\u001b[0;34m**\u001b[0m\u001b[0mconfig\u001b[0m\u001b[0;34m)\u001b[0m\u001b[0;34m:\u001b[0m\u001b[0;34m\u001b[0m\u001b[0;34m\u001b[0m\u001b[0m\n\u001b[0;32m--> 123\u001b[0;31m             \u001b[0;32mreturn\u001b[0m \u001b[0mself\u001b[0m\u001b[0;34m.\u001b[0m\u001b[0mfunction\u001b[0m\u001b[0;34m(\u001b[0m\u001b[0;34m*\u001b[0m\u001b[0margs\u001b[0m\u001b[0;34m,\u001b[0m \u001b[0;34m**\u001b[0m\u001b[0mkwargs\u001b[0m\u001b[0;34m)\u001b[0m\u001b[0;34m\u001b[0m\u001b[0;34m\u001b[0m\u001b[0m\n\u001b[0m",
            "\u001b[0;32m/usr/local/lib/python3.10/dist-packages/sklearn/ensemble/_forest.py\u001b[0m in \u001b[0;36m_parallel_build_trees\u001b[0;34m(tree, bootstrap, X, y, sample_weight, tree_idx, n_trees, verbose, class_weight, n_samples_bootstrap)\u001b[0m\n\u001b[1;32m    182\u001b[0m             \u001b[0mcurr_sample_weight\u001b[0m \u001b[0;34m*=\u001b[0m \u001b[0mcompute_sample_weight\u001b[0m\u001b[0;34m(\u001b[0m\u001b[0;34m\"balanced\"\u001b[0m\u001b[0;34m,\u001b[0m \u001b[0my\u001b[0m\u001b[0;34m,\u001b[0m \u001b[0mindices\u001b[0m\u001b[0;34m=\u001b[0m\u001b[0mindices\u001b[0m\u001b[0;34m)\u001b[0m\u001b[0;34m\u001b[0m\u001b[0;34m\u001b[0m\u001b[0m\n\u001b[1;32m    183\u001b[0m \u001b[0;34m\u001b[0m\u001b[0m\n\u001b[0;32m--> 184\u001b[0;31m         \u001b[0mtree\u001b[0m\u001b[0;34m.\u001b[0m\u001b[0mfit\u001b[0m\u001b[0;34m(\u001b[0m\u001b[0mX\u001b[0m\u001b[0;34m,\u001b[0m \u001b[0my\u001b[0m\u001b[0;34m,\u001b[0m \u001b[0msample_weight\u001b[0m\u001b[0;34m=\u001b[0m\u001b[0mcurr_sample_weight\u001b[0m\u001b[0;34m,\u001b[0m \u001b[0mcheck_input\u001b[0m\u001b[0;34m=\u001b[0m\u001b[0;32mFalse\u001b[0m\u001b[0;34m)\u001b[0m\u001b[0;34m\u001b[0m\u001b[0;34m\u001b[0m\u001b[0m\n\u001b[0m\u001b[1;32m    185\u001b[0m     \u001b[0;32melse\u001b[0m\u001b[0;34m:\u001b[0m\u001b[0;34m\u001b[0m\u001b[0;34m\u001b[0m\u001b[0m\n\u001b[1;32m    186\u001b[0m         \u001b[0mtree\u001b[0m\u001b[0;34m.\u001b[0m\u001b[0mfit\u001b[0m\u001b[0;34m(\u001b[0m\u001b[0mX\u001b[0m\u001b[0;34m,\u001b[0m \u001b[0my\u001b[0m\u001b[0;34m,\u001b[0m \u001b[0msample_weight\u001b[0m\u001b[0;34m=\u001b[0m\u001b[0msample_weight\u001b[0m\u001b[0;34m,\u001b[0m \u001b[0mcheck_input\u001b[0m\u001b[0;34m=\u001b[0m\u001b[0;32mFalse\u001b[0m\u001b[0;34m)\u001b[0m\u001b[0;34m\u001b[0m\u001b[0;34m\u001b[0m\u001b[0m\n",
            "\u001b[0;32m/usr/local/lib/python3.10/dist-packages/sklearn/tree/_classes.py\u001b[0m in \u001b[0;36mfit\u001b[0;34m(self, X, y, sample_weight, check_input)\u001b[0m\n\u001b[1;32m   1245\u001b[0m         \"\"\"\n\u001b[1;32m   1246\u001b[0m \u001b[0;34m\u001b[0m\u001b[0m\n\u001b[0;32m-> 1247\u001b[0;31m         super().fit(\n\u001b[0m\u001b[1;32m   1248\u001b[0m             \u001b[0mX\u001b[0m\u001b[0;34m,\u001b[0m\u001b[0;34m\u001b[0m\u001b[0;34m\u001b[0m\u001b[0m\n\u001b[1;32m   1249\u001b[0m             \u001b[0my\u001b[0m\u001b[0;34m,\u001b[0m\u001b[0;34m\u001b[0m\u001b[0;34m\u001b[0m\u001b[0m\n",
            "\u001b[0;32m/usr/local/lib/python3.10/dist-packages/sklearn/tree/_classes.py\u001b[0m in \u001b[0;36mfit\u001b[0;34m(self, X, y, sample_weight, check_input)\u001b[0m\n\u001b[1;32m    377\u001b[0m             )\n\u001b[1;32m    378\u001b[0m \u001b[0;34m\u001b[0m\u001b[0m\n\u001b[0;32m--> 379\u001b[0;31m         \u001b[0mbuilder\u001b[0m\u001b[0;34m.\u001b[0m\u001b[0mbuild\u001b[0m\u001b[0;34m(\u001b[0m\u001b[0mself\u001b[0m\u001b[0;34m.\u001b[0m\u001b[0mtree_\u001b[0m\u001b[0;34m,\u001b[0m \u001b[0mX\u001b[0m\u001b[0;34m,\u001b[0m \u001b[0my\u001b[0m\u001b[0;34m,\u001b[0m \u001b[0msample_weight\u001b[0m\u001b[0;34m)\u001b[0m\u001b[0;34m\u001b[0m\u001b[0;34m\u001b[0m\u001b[0m\n\u001b[0m\u001b[1;32m    380\u001b[0m \u001b[0;34m\u001b[0m\u001b[0m\n\u001b[1;32m    381\u001b[0m         \u001b[0;32mif\u001b[0m \u001b[0mself\u001b[0m\u001b[0;34m.\u001b[0m\u001b[0mn_outputs_\u001b[0m \u001b[0;34m==\u001b[0m \u001b[0;36m1\u001b[0m \u001b[0;32mand\u001b[0m \u001b[0mis_classifier\u001b[0m\u001b[0;34m(\u001b[0m\u001b[0mself\u001b[0m\u001b[0;34m)\u001b[0m\u001b[0;34m:\u001b[0m\u001b[0;34m\u001b[0m\u001b[0;34m\u001b[0m\u001b[0m\n",
            "\u001b[0;31mKeyboardInterrupt\u001b[0m: "
          ]
        }
      ],
      "source": [
        "# rs.fit(X_train, y_train)\n",
        "rf.fit(X_train, y_train)"
      ]
    },
    {
      "cell_type": "code",
      "source": [
        "rs.best_params_"
      ],
      "metadata": {
        "id": "w0vvW8Ca2kVI"
      },
      "id": "w0vvW8Ca2kVI",
      "execution_count": null,
      "outputs": []
    },
    {
      "cell_type": "code",
      "execution_count": null,
      "id": "8a94e700",
      "metadata": {
        "id": "8a94e700"
      },
      "outputs": [],
      "source": [
        "# model = rs.best_estimator_\n",
        "rs.best_score_"
      ]
    },
    {
      "cell_type": "code",
      "source": [
        "model = rf"
      ],
      "metadata": {
        "id": "bmLai5hBSRy0"
      },
      "id": "bmLai5hBSRy0",
      "execution_count": null,
      "outputs": []
    },
    {
      "cell_type": "markdown",
      "id": "66a30bef",
      "metadata": {
        "id": "66a30bef"
      },
      "source": [
        "## Testing"
      ]
    },
    {
      "cell_type": "code",
      "source": [
        "y_pred = model.predict(X_validation)\n",
        "from sklearn.metrics import accuracy_score, mean_absolute_error"
      ],
      "metadata": {
        "id": "QwCDmfMO2qZc"
      },
      "id": "QwCDmfMO2qZc",
      "execution_count": null,
      "outputs": []
    },
    {
      "cell_type": "code",
      "source": [
        "import numpy as np"
      ],
      "metadata": {
        "id": "KHEn_ej54epl"
      },
      "id": "KHEn_ej54epl",
      "execution_count": null,
      "outputs": []
    },
    {
      "cell_type": "code",
      "source": [
        "y_validation.max()"
      ],
      "metadata": {
        "id": "9nn0_zPh3_jL"
      },
      "id": "9nn0_zPh3_jL",
      "execution_count": null,
      "outputs": []
    },
    {
      "cell_type": "code",
      "source": [
        "mean_absolute_error(y_validation.fillna(0).values, y_pred)"
      ],
      "metadata": {
        "id": "Qqq-HFHK2_bO"
      },
      "id": "Qqq-HFHK2_bO",
      "execution_count": null,
      "outputs": []
    },
    {
      "cell_type": "code",
      "source": [
        "sns.histplot(y_validation)\n",
        "sns.histplot(y_pred)\n",
        "plt.title('distribution of predictions (orange) vs real values (blue)')\n",
        "plt.show()"
      ],
      "metadata": {
        "id": "wY4D5HTk85N3"
      },
      "id": "wY4D5HTk85N3",
      "execution_count": null,
      "outputs": []
    },
    {
      "cell_type": "markdown",
      "source": [
        "# complex models"
      ],
      "metadata": {
        "id": "XEBqB1DIc3tQ"
      },
      "id": "XEBqB1DIc3tQ"
    },
    {
      "cell_type": "code",
      "source": [
        "import tensorflow as tf\n",
        "from tensorflow import keras"
      ],
      "metadata": {
        "id": "nquaIk0VFefx"
      },
      "id": "nquaIk0VFefx",
      "execution_count": null,
      "outputs": []
    },
    {
      "cell_type": "markdown",
      "id": "59eca142",
      "metadata": {
        "id": "59eca142"
      },
      "source": [
        "# Model 1:"
      ]
    },
    {
      "cell_type": "code",
      "source": [
        "len(X_train)"
      ],
      "metadata": {
        "colab": {
          "base_uri": "https://localhost:8080/"
        },
        "id": "QXUBoewp-QnY",
        "outputId": "c7c020e6-d95e-4588-be38-e2409bf19cf1"
      },
      "id": "QXUBoewp-QnY",
      "execution_count": 425,
      "outputs": [
        {
          "output_type": "execute_result",
          "data": {
            "text/plain": [
              "109560"
            ]
          },
          "metadata": {},
          "execution_count": 425
        }
      ]
    },
    {
      "cell_type": "markdown",
      "source": [
        "the idea now is to use a simple neural network, hoping it can comprehend the behaviour of sells acoording to the time of the year for the different countries and products (if there is one).\n",
        "\n",
        "since there are around 11k samples, i'm hoping a more complex model won't cause overfitting"
      ],
      "metadata": {
        "id": "TZZSgdwP-XYw"
      },
      "id": "TZZSgdwP-XYw"
    },
    {
      "cell_type": "markdown",
      "source": [
        "## Building the model"
      ],
      "metadata": {
        "id": "Ed5YHe3FFgHc"
      },
      "id": "Ed5YHe3FFgHc"
    },
    {
      "cell_type": "code",
      "source": [
        "X_train.values"
      ],
      "metadata": {
        "colab": {
          "base_uri": "https://localhost:8080/"
        },
        "id": "9H6nQPZ2MCW1",
        "outputId": "d9e3998d-d3e0-478a-b42b-5960efcfd477"
      },
      "id": "9H6nQPZ2MCW1",
      "execution_count": 426,
      "outputs": [
        {
          "output_type": "execute_result",
          "data": {
            "text/plain": [
              "array([[0.01886792, 0.        , 0.        , ..., 0.        , 0.        ,\n",
              "        1.        ],\n",
              "       [0.01886792, 0.        , 0.        , ..., 0.        , 1.        ,\n",
              "        0.        ],\n",
              "       [0.01886792, 0.        , 0.        , ..., 0.        , 1.        ,\n",
              "        1.        ],\n",
              "       ...,\n",
              "       [0.98113208, 1.        , 0.        , ..., 0.        , 1.        ,\n",
              "        1.        ],\n",
              "       [0.98113208, 1.        , 0.        , ..., 1.        , 0.        ,\n",
              "        0.        ],\n",
              "       [0.98113208, 1.        , 0.        , ..., 1.        , 0.        ,\n",
              "        1.        ]])"
            ]
          },
          "metadata": {},
          "execution_count": 426
        }
      ]
    },
    {
      "cell_type": "code",
      "source": [
        "from keras.models import Sequential\n",
        "from keras.layers import Input, Dense\n",
        "\n",
        "model = keras.models.Sequential([\n",
        "    Input(shape=(9,)),\n",
        "    Dense(30, activation='relu'),\n",
        "    Dense(10, activation='relu'),\n",
        "    Dense(1, activation='relu')\n",
        "])\n",
        "model.summary()\n",
        "# keras.utils.plot_model(model, show_shapes = True)"
      ],
      "metadata": {
        "colab": {
          "base_uri": "https://localhost:8080/"
        },
        "id": "Jf4_2au97OUF",
        "outputId": "0b41c189-c067-42f1-9efc-74b09daa9d99"
      },
      "id": "Jf4_2au97OUF",
      "execution_count": 427,
      "outputs": [
        {
          "output_type": "stream",
          "name": "stdout",
          "text": [
            "Model: \"sequential_34\"\n",
            "_________________________________________________________________\n",
            " Layer (type)                Output Shape              Param #   \n",
            "=================================================================\n",
            " dense_180 (Dense)           (None, 30)                300       \n",
            "                                                                 \n",
            " dense_181 (Dense)           (None, 10)                310       \n",
            "                                                                 \n",
            " dense_182 (Dense)           (None, 1)                 11        \n",
            "                                                                 \n",
            "=================================================================\n",
            "Total params: 621\n",
            "Trainable params: 621\n",
            "Non-trainable params: 0\n",
            "_________________________________________________________________\n"
          ]
        }
      ]
    },
    {
      "cell_type": "code",
      "source": [
        "model.summary()"
      ],
      "metadata": {
        "colab": {
          "base_uri": "https://localhost:8080/"
        },
        "id": "4jR608ze12p4",
        "outputId": "4a5808ae-d51d-4bcc-d09c-f6b2e6024a08"
      },
      "id": "4jR608ze12p4",
      "execution_count": 428,
      "outputs": [
        {
          "output_type": "stream",
          "name": "stdout",
          "text": [
            "Model: \"sequential_34\"\n",
            "_________________________________________________________________\n",
            " Layer (type)                Output Shape              Param #   \n",
            "=================================================================\n",
            " dense_180 (Dense)           (None, 30)                300       \n",
            "                                                                 \n",
            " dense_181 (Dense)           (None, 10)                310       \n",
            "                                                                 \n",
            " dense_182 (Dense)           (None, 1)                 11        \n",
            "                                                                 \n",
            "=================================================================\n",
            "Total params: 621\n",
            "Trainable params: 621\n",
            "Non-trainable params: 0\n",
            "_________________________________________________________________\n"
          ]
        }
      ]
    },
    {
      "cell_type": "code",
      "source": [
        "model.compile(\n",
        "    loss='mean_squared_error',\n",
        "    optimizer=Adam(learning_rate = 0.0001),\n",
        "    metrics =['mean_absolute_error']\n",
        ")"
      ],
      "metadata": {
        "id": "W9yVOCW88KQz"
      },
      "id": "W9yVOCW88KQz",
      "execution_count": 429,
      "outputs": []
    },
    {
      "cell_type": "markdown",
      "id": "e9693b25",
      "metadata": {
        "id": "e9693b25"
      },
      "source": [
        "## Training"
      ]
    },
    {
      "cell_type": "code",
      "source": [
        "history = model.fit(X_train.values, y_train,\n",
        "                    epochs = 25,\n",
        "                    validation_data=(X_validation.values, y_validation)\n",
        "                    )"
      ],
      "metadata": {
        "colab": {
          "base_uri": "https://localhost:8080/"
        },
        "id": "Vj0H3uYb_oe0",
        "outputId": "dfe9c95a-9af9-41b8-b4d1-c819f3bfc5b4"
      },
      "id": "Vj0H3uYb_oe0",
      "execution_count": 434,
      "outputs": [
        {
          "output_type": "stream",
          "name": "stdout",
          "text": [
            "Epoch 1/25\n",
            "3424/3424 [==============================] - 15s 4ms/step - loss: 6041.7964 - mean_absolute_error: 55.8697 - val_loss: 7910.9253 - val_mean_absolute_error: 61.0516\n",
            "Epoch 2/25\n",
            "3424/3424 [==============================] - 9s 2ms/step - loss: 5750.2705 - mean_absolute_error: 54.4308 - val_loss: 7485.8931 - val_mean_absolute_error: 59.2611\n",
            "Epoch 3/25\n",
            "3424/3424 [==============================] - 7s 2ms/step - loss: 5352.6309 - mean_absolute_error: 52.4993 - val_loss: 6921.9463 - val_mean_absolute_error: 56.8443\n",
            "Epoch 4/25\n",
            "3424/3424 [==============================] - 8s 2ms/step - loss: 4936.3638 - mean_absolute_error: 50.4513 - val_loss: 6479.3662 - val_mean_absolute_error: 54.9557\n",
            "Epoch 5/25\n",
            "3424/3424 [==============================] - 9s 3ms/step - loss: 4524.8740 - mean_absolute_error: 48.3911 - val_loss: 6093.2539 - val_mean_absolute_error: 53.3023\n",
            "Epoch 6/25\n",
            "3424/3424 [==============================] - 7s 2ms/step - loss: 4115.7256 - mean_absolute_error: 46.3029 - val_loss: 5507.6201 - val_mean_absolute_error: 50.5013\n",
            "Epoch 7/25\n",
            "3424/3424 [==============================] - 8s 2ms/step - loss: 3635.4944 - mean_absolute_error: 43.3602 - val_loss: 4927.6528 - val_mean_absolute_error: 46.6682\n",
            "Epoch 8/25\n",
            "3424/3424 [==============================] - 9s 3ms/step - loss: 3174.5989 - mean_absolute_error: 40.1374 - val_loss: 4323.0693 - val_mean_absolute_error: 43.0127\n",
            "Epoch 9/25\n",
            "3424/3424 [==============================] - 8s 2ms/step - loss: 2804.8623 - mean_absolute_error: 37.2500 - val_loss: 3931.7886 - val_mean_absolute_error: 40.1148\n",
            "Epoch 10/25\n",
            "3424/3424 [==============================] - 9s 2ms/step - loss: 2500.4241 - mean_absolute_error: 34.4516 - val_loss: 3575.1570 - val_mean_absolute_error: 37.3782\n",
            "Epoch 11/25\n",
            "3424/3424 [==============================] - 9s 3ms/step - loss: 2285.8523 - mean_absolute_error: 32.3933 - val_loss: 3372.8716 - val_mean_absolute_error: 35.8397\n",
            "Epoch 12/25\n",
            "3424/3424 [==============================] - 7s 2ms/step - loss: 2148.0024 - mean_absolute_error: 31.1390 - val_loss: 3264.3420 - val_mean_absolute_error: 35.2671\n",
            "Epoch 13/25\n",
            "3424/3424 [==============================] - 15s 4ms/step - loss: 2061.4373 - mean_absolute_error: 30.3801 - val_loss: 3132.0366 - val_mean_absolute_error: 34.4615\n",
            "Epoch 14/25\n",
            "3424/3424 [==============================] - 19s 5ms/step - loss: 2003.1333 - mean_absolute_error: 29.8874 - val_loss: 3086.5247 - val_mean_absolute_error: 34.2882\n",
            "Epoch 15/25\n",
            "3424/3424 [==============================] - 8s 2ms/step - loss: 1961.6558 - mean_absolute_error: 29.5496 - val_loss: 2965.4038 - val_mean_absolute_error: 33.5038\n",
            "Epoch 16/25\n",
            "3424/3424 [==============================] - 8s 2ms/step - loss: 1929.3759 - mean_absolute_error: 29.2782 - val_loss: 2908.7336 - val_mean_absolute_error: 33.1786\n",
            "Epoch 17/25\n",
            "3424/3424 [==============================] - 8s 2ms/step - loss: 1901.9321 - mean_absolute_error: 29.0561 - val_loss: 2927.5974 - val_mean_absolute_error: 33.2387\n",
            "Epoch 18/25\n",
            "3424/3424 [==============================] - 7s 2ms/step - loss: 1880.0999 - mean_absolute_error: 28.8489 - val_loss: 2876.5176 - val_mean_absolute_error: 32.9595\n",
            "Epoch 19/25\n",
            "3424/3424 [==============================] - 8s 2ms/step - loss: 1863.2560 - mean_absolute_error: 28.6822 - val_loss: 2797.1038 - val_mean_absolute_error: 32.4251\n",
            "Epoch 20/25\n",
            "3424/3424 [==============================] - 8s 2ms/step - loss: 1848.6731 - mean_absolute_error: 28.5365 - val_loss: 2740.1284 - val_mean_absolute_error: 32.2460\n",
            "Epoch 21/25\n",
            "3424/3424 [==============================] - 10s 3ms/step - loss: 1835.8242 - mean_absolute_error: 28.4242 - val_loss: 2785.9209 - val_mean_absolute_error: 32.3711\n",
            "Epoch 22/25\n",
            "3424/3424 [==============================] - 8s 2ms/step - loss: 1824.2307 - mean_absolute_error: 28.2985 - val_loss: 2781.1660 - val_mean_absolute_error: 32.3277\n",
            "Epoch 23/25\n",
            "3424/3424 [==============================] - 7s 2ms/step - loss: 1812.9847 - mean_absolute_error: 28.1923 - val_loss: 2819.3386 - val_mean_absolute_error: 32.4375\n",
            "Epoch 24/25\n",
            "3424/3424 [==============================] - 9s 2ms/step - loss: 1802.8516 - mean_absolute_error: 28.0869 - val_loss: 2835.7634 - val_mean_absolute_error: 32.6213\n",
            "Epoch 25/25\n",
            "3424/3424 [==============================] - 10s 3ms/step - loss: 1792.9689 - mean_absolute_error: 27.9981 - val_loss: 2738.1284 - val_mean_absolute_error: 31.9221\n"
          ]
        }
      ]
    },
    {
      "cell_type": "code",
      "source": [
        "pd.DataFrame(history.history).loc[:,['mean_absolute_error','val_mean_absolute_error']].plot()\n",
        "plt.grid(True)\n",
        "plt.show()"
      ],
      "metadata": {
        "colab": {
          "base_uri": "https://localhost:8080/",
          "height": 430
        },
        "id": "gRMQBja4D9Dp",
        "outputId": "e199b9e9-6e6a-4b3a-f686-0b675045e334"
      },
      "id": "gRMQBja4D9Dp",
      "execution_count": 439,
      "outputs": [
        {
          "output_type": "display_data",
          "data": {
            "text/plain": [
              "<Figure size 640x480 with 1 Axes>"
            ],
            "image/png": "[encoded data removed]"
          },
          "metadata": {}
        }
      ]
    },
    {
      "cell_type": "markdown",
      "id": "f2056ba8",
      "metadata": {
        "id": "f2056ba8"
      },
      "source": [
        "## Testing"
      ]
    },
    {
      "cell_type": "code",
      "execution_count": 436,
      "id": "a0db065e",
      "metadata": {
        "colab": {
          "base_uri": "https://localhost:8080/"
        },
        "id": "a0db065e",
        "outputId": "0d9f8a3d-12d1-4d20-b42d-a2745da72db3"
      },
      "outputs": [
        {
          "output_type": "stream",
          "name": "stdout",
          "text": [
            "856/856 [==============================] - 1s 1ms/step\n"
          ]
        }
      ],
      "source": [
        "y_pred = model.predict(X_validation)"
      ]
    },
    {
      "cell_type": "code",
      "source": [
        "from sklearn.metrics import accuracy_score, mean_absolute_error\n",
        "mean_absolute_error(y_validation, y_pred)"
      ],
      "metadata": {
        "colab": {
          "base_uri": "https://localhost:8080/"
        },
        "id": "6NkQ442PBGht",
        "outputId": "e2305b76-682d-4abe-ed82-b33b4099027c"
      },
      "id": "6NkQ442PBGht",
      "execution_count": 437,
      "outputs": [
        {
          "output_type": "execute_result",
          "data": {
            "text/plain": [
              "31.92210034053227"
            ]
          },
          "metadata": {},
          "execution_count": 437
        }
      ]
    },
    {
      "cell_type": "markdown",
      "source": [],
      "metadata": {
        "id": "fd2Bb3sd66T_"
      },
      "id": "fd2Bb3sd66T_"
    },
    {
      "cell_type": "markdown",
      "source": [
        "# so...\n",
        "\n",
        "the model was able to achieve an acceptable error. now i can move on into making the final notebook and uploading my solution"
      ],
      "metadata": {
        "id": "CA_zK7EG7EVL"
      },
      "id": "CA_zK7EG7EVL"
    }
  ],
  "metadata": {
    "kernelspec": {
      "display_name": "Python 3 (ipykernel)",
      "language": "python",
      "name": "python3"
    },
    "language_info": {
      "codemirror_mode": {
        "name": "ipython",
        "version": 3
      },
      "file_extension": ".py",
      "mimetype": "text/x-python",
      "name": "python",
      "nbconvert_exporter": "python",
      "pygments_lexer": "ipython3",
      "version": "3.8.10"
    },
    "colab": {
      "provenance": [],
      "collapsed_sections": [
        "bb32641a",
        "83d63622",
        "b134a8d1",
        "59eca142",
        "Ed5YHe3FFgHc",
        "e9693b25",
        "f2056ba8"
      ],
      "include_colab_link": true
    }
  },
  "nbformat": 4,
  "nbformat_minor": 5
}